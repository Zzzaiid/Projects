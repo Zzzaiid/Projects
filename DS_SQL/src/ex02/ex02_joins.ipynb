{
 "cells": [
  {
   "cell_type": "markdown",
   "metadata": {},
   "source": [
    "## Импорт библиотек"
   ]
  },
  {
   "cell_type": "code",
   "execution_count": 13,
   "metadata": {},
   "outputs": [],
   "source": [
    "import pandas as pd\n",
    "import sqlite3"
   ]
  },
  {
   "cell_type": "markdown",
   "metadata": {},
   "source": [
    "## Соединение с базой данных"
   ]
  },
  {
   "cell_type": "code",
   "execution_count": 14,
   "metadata": {},
   "outputs": [
    {
     "data": {
      "text/plain": [
       "<sqlite3.Cursor at 0x1e38d5c72c0>"
      ]
     },
     "execution_count": 14,
     "metadata": {},
     "output_type": "execute_result"
    }
   ],
   "source": [
    "connection = sqlite3.connect('../data/checking-logs.sqlite')\n",
    "connection.execute('DROP TABLE IF EXISTS datamart')"
   ]
  },
  {
   "cell_type": "markdown",
   "metadata": {},
   "source": [
    "## Новая таблица datamart"
   ]
  },
  {
   "cell_type": "code",
   "execution_count": 15,
   "metadata": {},
   "outputs": [
    {
     "name": "stdout",
     "output_type": "stream",
     "text": [
      "<class 'pandas.core.frame.DataFrame'>\n",
      "RangeIndex: 140 entries, 0 to 139\n",
      "Data columns (total 4 columns):\n",
      " #   Column           Non-Null Count  Dtype         \n",
      "---  ------           --------------  -----         \n",
      " 0   uid              140 non-null    object        \n",
      " 1   labname          140 non-null    object        \n",
      " 2   first_commit_ts  140 non-null    datetime64[ns]\n",
      " 3   first_view_ts    59 non-null     datetime64[ns]\n",
      "dtypes: datetime64[ns](2), object(2)\n",
      "memory usage: 4.5+ KB\n"
     ]
    }
   ],
   "source": [
    "query = 'CREATE TABLE IF NOT EXISTS datamart AS \\\n",
    "    SELECT ch.uid, ch.labname, ch.first_commit_ts, pg.first_view_ts \\\n",
    "        FROM (SELECT uid, labname, MIN(timestamp) AS first_commit_ts FROM checker \\\n",
    "            WHERE uid LIKE \"user_%\" AND labname IN (\"laba04\", \"laba06s\", \"laba06\", \"laba04s\", \"laba05\", \"project1\") AND status = \"ready\" AND numTrials = \"1\" GROUP BY labname, uid) AS ch \\\n",
    "                LEFT JOIN (SELECT uid, MIN(datetime) AS first_view_ts FROM pageviews WHERE uid LIKE \"user_%\" GROUP BY uid) AS pg \\\n",
    "                    ON ch.uid = pg.uid'\n",
    "connection.execute(query)\n",
    "datamart = pd.read_sql(\"SELECT * from datamart\", connection)\n",
    "datamart['first_commit_ts'] = pd.to_datetime(datamart['first_commit_ts'])\n",
    "datamart['first_view_ts'] = pd.to_datetime(datamart['first_view_ts'])\n",
    "datamart.info()"
   ]
  },
  {
   "cell_type": "markdown",
   "metadata": {},
   "source": [
    "## Тестовый и контрольный фреймы данных: "
   ]
  },
  {
   "cell_type": "code",
   "execution_count": 16,
   "metadata": {},
   "outputs": [
    {
     "name": "stdout",
     "output_type": "stream",
     "text": [
      "<class 'pandas.core.frame.DataFrame'>\n",
      "Index: 59 entries, 0 to 135\n",
      "Data columns (total 4 columns):\n",
      " #   Column           Non-Null Count  Dtype         \n",
      "---  ------           --------------  -----         \n",
      " 0   uid              59 non-null     object        \n",
      " 1   labname          59 non-null     object        \n",
      " 2   first_commit_ts  59 non-null     datetime64[ns]\n",
      " 3   first_view_ts    59 non-null     datetime64[ns]\n",
      "dtypes: datetime64[ns](2), object(2)\n",
      "memory usage: 2.3+ KB\n",
      "<class 'pandas.core.frame.DataFrame'>\n",
      "Index: 81 entries, 2 to 139\n",
      "Data columns (total 4 columns):\n",
      " #   Column           Non-Null Count  Dtype         \n",
      "---  ------           --------------  -----         \n",
      " 0   uid              81 non-null     object        \n",
      " 1   labname          81 non-null     object        \n",
      " 2   first_commit_ts  81 non-null     datetime64[ns]\n",
      " 3   first_view_ts    0 non-null      datetime64[ns]\n",
      "dtypes: datetime64[ns](2), object(2)\n",
      "memory usage: 3.2+ KB\n"
     ]
    },
    {
     "data": {
      "text/plain": [
       "81"
      ]
     },
     "execution_count": 16,
     "metadata": {},
     "output_type": "execute_result"
    }
   ],
   "source": [
    "test = datamart[datamart['first_view_ts'].notna()]\n",
    "test.info()\n",
    "\n",
    "control = datamart[datamart['first_view_ts'].isna()]\n",
    "control.info()\n",
    "control = control.copy()\n",
    "\n",
    "test_mean = test['first_view_ts'].mean()\n",
    "control['first_view_ts'] = control['first_view_ts'].fillna(test_mean)\n",
    "\n",
    "test.to_sql('test', con=connection, if_exists='replace', index=False)\n",
    "control.to_sql('control', con=connection, if_exists='replace', index=False)"
   ]
  },
  {
   "cell_type": "code",
   "execution_count": 17,
   "metadata": {},
   "outputs": [
    {
     "data": {
      "text/html": [
       "<div>\n",
       "<style scoped>\n",
       "    .dataframe tbody tr th:only-of-type {\n",
       "        vertical-align: middle;\n",
       "    }\n",
       "\n",
       "    .dataframe tbody tr th {\n",
       "        vertical-align: top;\n",
       "    }\n",
       "\n",
       "    .dataframe thead th {\n",
       "        text-align: right;\n",
       "    }\n",
       "</style>\n",
       "<table border=\"1\" class=\"dataframe\">\n",
       "  <thead>\n",
       "    <tr style=\"text-align: right;\">\n",
       "      <th></th>\n",
       "      <th>uid</th>\n",
       "      <th>labname</th>\n",
       "      <th>first_commit_ts</th>\n",
       "      <th>first_view_ts</th>\n",
       "    </tr>\n",
       "  </thead>\n",
       "  <tbody>\n",
       "    <tr>\n",
       "      <th>0</th>\n",
       "      <td>user_12</td>\n",
       "      <td>laba04</td>\n",
       "      <td>2020-04-18 17:07:51.767358</td>\n",
       "      <td>2020-04-27 00:40:05.761783</td>\n",
       "    </tr>\n",
       "    <tr>\n",
       "      <th>1</th>\n",
       "      <td>user_13</td>\n",
       "      <td>laba04</td>\n",
       "      <td>2020-04-25 17:56:16.919886</td>\n",
       "      <td>2020-04-27 00:40:05.761783</td>\n",
       "    </tr>\n",
       "    <tr>\n",
       "      <th>2</th>\n",
       "      <td>user_15</td>\n",
       "      <td>laba04</td>\n",
       "      <td>2020-04-26 20:20:37.147886</td>\n",
       "      <td>2020-04-27 00:40:05.761783</td>\n",
       "    </tr>\n",
       "    <tr>\n",
       "      <th>3</th>\n",
       "      <td>user_16</td>\n",
       "      <td>laba04</td>\n",
       "      <td>2020-04-20 14:51:39.981342</td>\n",
       "      <td>2020-04-27 00:40:05.761783</td>\n",
       "    </tr>\n",
       "    <tr>\n",
       "      <th>4</th>\n",
       "      <td>user_2</td>\n",
       "      <td>laba04</td>\n",
       "      <td>2020-04-18 13:42:35.482008</td>\n",
       "      <td>2020-04-27 00:40:05.761783</td>\n",
       "    </tr>\n",
       "    <tr>\n",
       "      <th>...</th>\n",
       "      <td>...</td>\n",
       "      <td>...</td>\n",
       "      <td>...</td>\n",
       "      <td>...</td>\n",
       "    </tr>\n",
       "    <tr>\n",
       "      <th>76</th>\n",
       "      <td>user_29</td>\n",
       "      <td>project1</td>\n",
       "      <td>2020-05-11 17:57:37.768081</td>\n",
       "      <td>2020-04-27 00:40:05.761783</td>\n",
       "    </tr>\n",
       "    <tr>\n",
       "      <th>77</th>\n",
       "      <td>user_31</td>\n",
       "      <td>project1</td>\n",
       "      <td>2020-05-07 14:13:06.522558</td>\n",
       "      <td>2020-04-27 00:40:05.761783</td>\n",
       "    </tr>\n",
       "    <tr>\n",
       "      <th>78</th>\n",
       "      <td>user_4</td>\n",
       "      <td>project1</td>\n",
       "      <td>2020-04-17 05:19:02.744528</td>\n",
       "      <td>2020-04-27 00:40:05.761783</td>\n",
       "    </tr>\n",
       "    <tr>\n",
       "      <th>79</th>\n",
       "      <td>user_6</td>\n",
       "      <td>project1</td>\n",
       "      <td>2020-05-13 19:50:34.262602</td>\n",
       "      <td>2020-04-27 00:40:05.761783</td>\n",
       "    </tr>\n",
       "    <tr>\n",
       "      <th>80</th>\n",
       "      <td>user_8</td>\n",
       "      <td>project1</td>\n",
       "      <td>2020-05-14 15:42:04.002981</td>\n",
       "      <td>2020-04-27 00:40:05.761783</td>\n",
       "    </tr>\n",
       "  </tbody>\n",
       "</table>\n",
       "<p>81 rows × 4 columns</p>\n",
       "</div>"
      ],
      "text/plain": [
       "        uid   labname             first_commit_ts               first_view_ts\n",
       "0   user_12    laba04  2020-04-18 17:07:51.767358  2020-04-27 00:40:05.761783\n",
       "1   user_13    laba04  2020-04-25 17:56:16.919886  2020-04-27 00:40:05.761783\n",
       "2   user_15    laba04  2020-04-26 20:20:37.147886  2020-04-27 00:40:05.761783\n",
       "3   user_16    laba04  2020-04-20 14:51:39.981342  2020-04-27 00:40:05.761783\n",
       "4    user_2    laba04  2020-04-18 13:42:35.482008  2020-04-27 00:40:05.761783\n",
       "..      ...       ...                         ...                         ...\n",
       "76  user_29  project1  2020-05-11 17:57:37.768081  2020-04-27 00:40:05.761783\n",
       "77  user_31  project1  2020-05-07 14:13:06.522558  2020-04-27 00:40:05.761783\n",
       "78   user_4  project1  2020-04-17 05:19:02.744528  2020-04-27 00:40:05.761783\n",
       "79   user_6  project1  2020-05-13 19:50:34.262602  2020-04-27 00:40:05.761783\n",
       "80   user_8  project1  2020-05-14 15:42:04.002981  2020-04-27 00:40:05.761783\n",
       "\n",
       "[81 rows x 4 columns]"
      ]
     },
     "execution_count": 17,
     "metadata": {},
     "output_type": "execute_result"
    }
   ],
   "source": [
    "query = pd.read_sql(\"SELECT * FROM control\", connection)\n",
    "query"
   ]
  },
  {
   "cell_type": "markdown",
   "metadata": {},
   "source": [
    "## Закрытие соединения с базой данных"
   ]
  },
  {
   "cell_type": "code",
   "execution_count": 18,
   "metadata": {},
   "outputs": [],
   "source": [
    "connection.close()"
   ]
  }
 ],
 "metadata": {
  "kernelspec": {
   "display_name": "Python 3",
   "language": "python",
   "name": "python3"
  },
  "language_info": {
   "codemirror_mode": {
    "name": "ipython",
    "version": 3
   },
   "file_extension": ".py",
   "mimetype": "text/x-python",
   "name": "python",
   "nbconvert_exporter": "python",
   "pygments_lexer": "ipython3",
   "version": "3.11.5"
  }
 },
 "nbformat": 4,
 "nbformat_minor": 2
}
