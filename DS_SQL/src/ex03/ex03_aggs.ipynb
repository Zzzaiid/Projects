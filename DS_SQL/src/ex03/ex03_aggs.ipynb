{
 "cells": [
  {
   "cell_type": "markdown",
   "metadata": {},
   "source": [
    "## Импорт библиотек"
   ]
  },
  {
   "cell_type": "code",
   "execution_count": 1,
   "metadata": {},
   "outputs": [],
   "source": [
    "import pandas as pd\n",
    "import sqlite3"
   ]
  },
  {
   "cell_type": "markdown",
   "metadata": {},
   "source": [
    "## Соединение с базой данных и схема таблицы"
   ]
  },
  {
   "cell_type": "code",
   "execution_count": 2,
   "metadata": {},
   "outputs": [
    {
     "name": "stdout",
     "output_type": "stream",
     "text": [
      "   cid             name       type  notnull dflt_value  pk\n",
      "0    0              uid       TEXT        0       None   0\n",
      "1    1          labname       TEXT        0       None   0\n",
      "2    2  first_commit_ts  TIMESTAMP        0       None   0\n",
      "3    3    first_view_ts  TIMESTAMP        0       None   0\n"
     ]
    },
    {
     "data": {
      "text/html": [
       "<div>\n",
       "<style scoped>\n",
       "    .dataframe tbody tr th:only-of-type {\n",
       "        vertical-align: middle;\n",
       "    }\n",
       "\n",
       "    .dataframe tbody tr th {\n",
       "        vertical-align: top;\n",
       "    }\n",
       "\n",
       "    .dataframe thead th {\n",
       "        text-align: right;\n",
       "    }\n",
       "</style>\n",
       "<table border=\"1\" class=\"dataframe\">\n",
       "  <thead>\n",
       "    <tr style=\"text-align: right;\">\n",
       "      <th></th>\n",
       "      <th>uid</th>\n",
       "      <th>labname</th>\n",
       "      <th>first_commit_ts</th>\n",
       "      <th>first_view_ts</th>\n",
       "    </tr>\n",
       "  </thead>\n",
       "  <tbody>\n",
       "    <tr>\n",
       "      <th>0</th>\n",
       "      <td>user_1</td>\n",
       "      <td>laba04</td>\n",
       "      <td>2020-04-26 17:06:18.462708</td>\n",
       "      <td>2020-04-26 21:53:59.624136</td>\n",
       "    </tr>\n",
       "    <tr>\n",
       "      <th>1</th>\n",
       "      <td>user_10</td>\n",
       "      <td>laba04</td>\n",
       "      <td>2020-04-25 08:24:52.696624</td>\n",
       "      <td>2020-04-18 12:19:50.182714</td>\n",
       "    </tr>\n",
       "    <tr>\n",
       "      <th>2</th>\n",
       "      <td>user_14</td>\n",
       "      <td>laba04</td>\n",
       "      <td>2020-04-18 15:14:00.312338</td>\n",
       "      <td>2020-04-18 10:53:52.623447</td>\n",
       "    </tr>\n",
       "    <tr>\n",
       "      <th>3</th>\n",
       "      <td>user_17</td>\n",
       "      <td>laba04</td>\n",
       "      <td>2020-04-23 14:24:29.947554</td>\n",
       "      <td>2020-04-18 10:56:55.833899</td>\n",
       "    </tr>\n",
       "    <tr>\n",
       "      <th>4</th>\n",
       "      <td>user_18</td>\n",
       "      <td>laba04</td>\n",
       "      <td>2020-04-26 19:48:11.822365</td>\n",
       "      <td>2020-04-26 22:49:29.243278</td>\n",
       "    </tr>\n",
       "    <tr>\n",
       "      <th>5</th>\n",
       "      <td>user_19</td>\n",
       "      <td>laba04</td>\n",
       "      <td>2020-04-20 19:05:01.297780</td>\n",
       "      <td>2020-04-21 20:30:38.034966</td>\n",
       "    </tr>\n",
       "    <tr>\n",
       "      <th>6</th>\n",
       "      <td>user_21</td>\n",
       "      <td>laba04</td>\n",
       "      <td>2020-04-21 17:48:00.487806</td>\n",
       "      <td>2020-04-22 22:40:36.824081</td>\n",
       "    </tr>\n",
       "    <tr>\n",
       "      <th>7</th>\n",
       "      <td>user_25</td>\n",
       "      <td>laba04</td>\n",
       "      <td>2020-04-20 19:16:50.673054</td>\n",
       "      <td>2020-05-09 23:54:54.260791</td>\n",
       "    </tr>\n",
       "    <tr>\n",
       "      <th>8</th>\n",
       "      <td>user_28</td>\n",
       "      <td>laba04</td>\n",
       "      <td>2020-04-22 21:47:19.707242</td>\n",
       "      <td>2020-05-10 21:07:50.350946</td>\n",
       "    </tr>\n",
       "    <tr>\n",
       "      <th>9</th>\n",
       "      <td>user_3</td>\n",
       "      <td>laba04</td>\n",
       "      <td>2020-04-23 20:29:14.054364</td>\n",
       "      <td>2020-05-08 10:53:47.123832</td>\n",
       "    </tr>\n",
       "  </tbody>\n",
       "</table>\n",
       "</div>"
      ],
      "text/plain": [
       "       uid labname             first_commit_ts               first_view_ts\n",
       "0   user_1  laba04  2020-04-26 17:06:18.462708  2020-04-26 21:53:59.624136\n",
       "1  user_10  laba04  2020-04-25 08:24:52.696624  2020-04-18 12:19:50.182714\n",
       "2  user_14  laba04  2020-04-18 15:14:00.312338  2020-04-18 10:53:52.623447\n",
       "3  user_17  laba04  2020-04-23 14:24:29.947554  2020-04-18 10:56:55.833899\n",
       "4  user_18  laba04  2020-04-26 19:48:11.822365  2020-04-26 22:49:29.243278\n",
       "5  user_19  laba04  2020-04-20 19:05:01.297780  2020-04-21 20:30:38.034966\n",
       "6  user_21  laba04  2020-04-21 17:48:00.487806  2020-04-22 22:40:36.824081\n",
       "7  user_25  laba04  2020-04-20 19:16:50.673054  2020-05-09 23:54:54.260791\n",
       "8  user_28  laba04  2020-04-22 21:47:19.707242  2020-05-10 21:07:50.350946\n",
       "9   user_3  laba04  2020-04-23 20:29:14.054364  2020-05-08 10:53:47.123832"
      ]
     },
     "execution_count": 2,
     "metadata": {},
     "output_type": "execute_result"
    }
   ],
   "source": [
    "connection = sqlite3.connect('../data/checking-logs.sqlite')\n",
    "query = \"PRAGMA table_info(test);\"\n",
    "scheme = pd.read_sql(query, connection)\n",
    "print(scheme)\n",
    "first10_test = pd.read_sql(\"SELECT * FROM test LIMIT 10\", connection)\n",
    "first10_test"
   ]
  },
  {
   "cell_type": "markdown",
   "metadata": {},
   "source": [
    "## Минимальное значение дельты между первым коммитом и дедлайном"
   ]
  },
  {
   "cell_type": "code",
   "execution_count": 3,
   "metadata": {},
   "outputs": [
    {
     "data": {
      "text/html": [
       "<div>\n",
       "<style scoped>\n",
       "    .dataframe tbody tr th:only-of-type {\n",
       "        vertical-align: middle;\n",
       "    }\n",
       "\n",
       "    .dataframe tbody tr th {\n",
       "        vertical-align: top;\n",
       "    }\n",
       "\n",
       "    .dataframe thead th {\n",
       "        text-align: right;\n",
       "    }\n",
       "</style>\n",
       "<table border=\"1\" class=\"dataframe\">\n",
       "  <thead>\n",
       "    <tr style=\"text-align: right;\">\n",
       "      <th></th>\n",
       "      <th>uid</th>\n",
       "      <th>hours_diff</th>\n",
       "    </tr>\n",
       "  </thead>\n",
       "  <tbody>\n",
       "    <tr>\n",
       "      <th>0</th>\n",
       "      <td>user_30</td>\n",
       "      <td>-202.0</td>\n",
       "    </tr>\n",
       "  </tbody>\n",
       "</table>\n",
       "</div>"
      ],
      "text/plain": [
       "       uid  hours_diff\n",
       "0  user_30      -202.0"
      ]
     },
     "execution_count": 3,
     "metadata": {},
     "output_type": "execute_result"
    }
   ],
   "source": [
    "min_delta_query = \"SELECT ch.uid, ROUND((JULIANDAY(first_commit) - JULIANDAY(deadline_date)) * 24) AS hours_diff \\\n",
    "    FROM (SELECT uid, labname, first_commit_ts AS first_commit FROM test WHERE labname LIKE 'laba%' GROUP BY uid, labname) AS ch \\\n",
    "        JOIN (SELECT labs, DATETIME(deadlines, 'unixepoch') AS deadline_date FROM deadlines) AS dl ON ch.labname = dl.labs \\\n",
    "            GROUP BY uid, labname \\\n",
    "                ORDER BY hours_diff \\\n",
    "                    LIMIT 1\"\n",
    "df_min = pd.read_sql(min_delta_query, connection)\n",
    "df_min"
   ]
  },
  {
   "cell_type": "markdown",
   "metadata": {},
   "source": [
    "## Максимальное значение дельты между первым коммитом и дедлайном"
   ]
  },
  {
   "cell_type": "code",
   "execution_count": 4,
   "metadata": {},
   "outputs": [
    {
     "data": {
      "text/html": [
       "<div>\n",
       "<style scoped>\n",
       "    .dataframe tbody tr th:only-of-type {\n",
       "        vertical-align: middle;\n",
       "    }\n",
       "\n",
       "    .dataframe tbody tr th {\n",
       "        vertical-align: top;\n",
       "    }\n",
       "\n",
       "    .dataframe thead th {\n",
       "        text-align: right;\n",
       "    }\n",
       "</style>\n",
       "<table border=\"1\" class=\"dataframe\">\n",
       "  <thead>\n",
       "    <tr style=\"text-align: right;\">\n",
       "      <th></th>\n",
       "      <th>uid</th>\n",
       "      <th>hours_diff</th>\n",
       "    </tr>\n",
       "  </thead>\n",
       "  <tbody>\n",
       "    <tr>\n",
       "      <th>0</th>\n",
       "      <td>user_25</td>\n",
       "      <td>-3.0</td>\n",
       "    </tr>\n",
       "  </tbody>\n",
       "</table>\n",
       "</div>"
      ],
      "text/plain": [
       "       uid  hours_diff\n",
       "0  user_25        -3.0"
      ]
     },
     "execution_count": 4,
     "metadata": {},
     "output_type": "execute_result"
    }
   ],
   "source": [
    "max_delta_query = \"SELECT ch.uid, ROUND((JULIANDAY(first_commit) - JULIANDAY(deadline_date)) * 24) AS hours_diff \\\n",
    "    FROM (SELECT uid, labname, first_commit_ts AS first_commit FROM test WHERE labname LIKE 'laba%' GROUP BY uid, labname) AS ch \\\n",
    "        JOIN (SELECT labs, DATETIME(deadlines, 'unixepoch') AS deadline_date FROM deadlines) AS dl ON ch.labname = dl.labs \\\n",
    "            GROUP BY uid, labname \\\n",
    "                ORDER BY hours_diff DESC \\\n",
    "                    LIMIT 1\"\n",
    "df_max = pd.read_sql(max_delta_query, connection)\n",
    "df_max"
   ]
  },
  {
   "cell_type": "markdown",
   "metadata": {},
   "source": [
    "## Среднее значение дельты между первым коммитом и дедлайном"
   ]
  },
  {
   "cell_type": "code",
   "execution_count": 5,
   "metadata": {},
   "outputs": [
    {
     "data": {
      "text/html": [
       "<div>\n",
       "<style scoped>\n",
       "    .dataframe tbody tr th:only-of-type {\n",
       "        vertical-align: middle;\n",
       "    }\n",
       "\n",
       "    .dataframe tbody tr th {\n",
       "        vertical-align: top;\n",
       "    }\n",
       "\n",
       "    .dataframe thead th {\n",
       "        text-align: right;\n",
       "    }\n",
       "</style>\n",
       "<table border=\"1\" class=\"dataframe\">\n",
       "  <thead>\n",
       "    <tr style=\"text-align: right;\">\n",
       "      <th></th>\n",
       "      <th>AVG(hours_diff)</th>\n",
       "    </tr>\n",
       "  </thead>\n",
       "  <tbody>\n",
       "    <tr>\n",
       "      <th>0</th>\n",
       "      <td>-89.729167</td>\n",
       "    </tr>\n",
       "  </tbody>\n",
       "</table>\n",
       "</div>"
      ],
      "text/plain": [
       "   AVG(hours_diff)\n",
       "0       -89.729167"
      ]
     },
     "execution_count": 5,
     "metadata": {},
     "output_type": "execute_result"
    }
   ],
   "source": [
    "avg_delta_query = \"SELECT AVG(hours_diff) FROM (\\\n",
    "    SELECT ch.uid, ROUND((JULIANDAY(first_commit) - JULIANDAY(deadline_date)) * 24) AS hours_diff \\\n",
    "    FROM (SELECT uid, labname, first_commit_ts AS first_commit FROM test WHERE labname LIKE 'laba%' GROUP BY uid, labname) AS ch \\\n",
    "        JOIN (SELECT labs, DATETIME(deadlines, 'unixepoch') AS deadline_date FROM deadlines) AS dl ON ch.labname = dl.labs \\\n",
    "            GROUP BY uid, labname \\\n",
    "                )\"\n",
    "df_avg = pd.read_sql(avg_delta_query, connection)\n",
    "df_avg"
   ]
  },
  {
   "cell_type": "markdown",
   "metadata": {},
   "source": [
    "## Гипотеза"
   ]
  },
  {
   "cell_type": "code",
   "execution_count": 6,
   "metadata": {},
   "outputs": [
    {
     "data": {
      "text/plain": [
       "-0.27977589529262725"
      ]
     },
     "execution_count": 6,
     "metadata": {},
     "output_type": "execute_result"
    }
   ],
   "source": [
    "new_table_query = \"CREATE TABLE IF NOT EXISTS views AS SELECT mn.uid, mn.hours_diff AS avg_diff, cnt.counter AS pageviews \\\n",
    "    FROM (SELECT ch.uid, AVG(ROUND((JULIANDAY(first_commit) - JULIANDAY(deadline_date)) * 24)) AS hours_diff \\\n",
    "        FROM (SELECT uid, labname, first_commit_ts AS first_commit FROM test WHERE labname LIKE 'laba%' GROUP BY uid, labname) AS ch \\\n",
    "            JOIN (SELECT labs, DATETIME(deadlines, 'unixepoch') AS deadline_date FROM deadlines) AS dl ON ch.labname = dl.labs GROUP BY uid) AS mn \\\n",
    "                JOIN ( SELECT uid, COUNT(datetime) AS counter FROM pageviews WHERE uid LIKE 'user_%' GROUP BY uid) AS cnt ON mn.uid = cnt.uid\"\n",
    "connection.execute(new_table_query)\n",
    "views_diff = pd.read_sql(\"SELECT * FROM views\", connection)\n",
    "correlation = views_diff['avg_diff'].corr(views_diff['pageviews'])\n",
    "correlation"
   ]
  },
  {
   "cell_type": "markdown",
   "metadata": {},
   "source": [
    "## Закрытие соединения с базой данных"
   ]
  },
  {
   "cell_type": "code",
   "execution_count": 7,
   "metadata": {},
   "outputs": [],
   "source": [
    "connection.close()"
   ]
  }
 ],
 "metadata": {
  "kernelspec": {
   "display_name": "Python 3",
   "language": "python",
   "name": "python3"
  },
  "language_info": {
   "codemirror_mode": {
    "name": "ipython",
    "version": 3
   },
   "file_extension": ".py",
   "mimetype": "text/x-python",
   "name": "python",
   "nbconvert_exporter": "python",
   "pygments_lexer": "ipython3",
   "version": "3.11.5"
  }
 },
 "nbformat": 4,
 "nbformat_minor": 2
}
