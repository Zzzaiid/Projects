{
 "cells": [
  {
   "cell_type": "code",
   "execution_count": 3,
   "metadata": {},
   "outputs": [],
   "source": [
    "import pandas as pd\n",
    "import numpy as np\n",
    "import joblib\n",
    "import recipes as r"
   ]
  },
  {
   "cell_type": "markdown",
   "metadata": {},
   "source": [
    "# Подготовка данных"
   ]
  },
  {
   "cell_type": "code",
   "execution_count": 4,
   "metadata": {},
   "outputs": [],
   "source": [
    "def remove_columns():\n",
    "    with open('./data/cols.txt', 'r') as file:\n",
    "        columns_to_keep = file.readline().strip().split(',')\n",
    "\n",
    "    df = pd.read_csv('./data/epi_r.csv')\n",
    "    df = df[columns_to_keep]\n",
    "    return df"
   ]
  },
  {
   "cell_type": "code",
   "execution_count": 5,
   "metadata": {
    "scrolled": true
   },
   "outputs": [
    {
     "data": {
      "text/html": [
       "<div>\n",
       "<style scoped>\n",
       "    .dataframe tbody tr th:only-of-type {\n",
       "        vertical-align: middle;\n",
       "    }\n",
       "\n",
       "    .dataframe tbody tr th {\n",
       "        vertical-align: top;\n",
       "    }\n",
       "\n",
       "    .dataframe thead th {\n",
       "        text-align: right;\n",
       "    }\n",
       "</style>\n",
       "<table border=\"1\" class=\"dataframe\">\n",
       "  <thead>\n",
       "    <tr style=\"text-align: right;\">\n",
       "      <th></th>\n",
       "      <th>rating</th>\n",
       "      <th>almond</th>\n",
       "      <th>amaretto</th>\n",
       "      <th>anchovy</th>\n",
       "      <th>anise</th>\n",
       "      <th>apple</th>\n",
       "      <th>apple juice</th>\n",
       "      <th>apricot</th>\n",
       "      <th>artichoke</th>\n",
       "      <th>arugula</th>\n",
       "      <th>...</th>\n",
       "      <th>wheat/gluten-free</th>\n",
       "      <th>whiskey</th>\n",
       "      <th>white wine</th>\n",
       "      <th>whole wheat</th>\n",
       "      <th>wild rice</th>\n",
       "      <th>wine</th>\n",
       "      <th>yellow squash</th>\n",
       "      <th>yogurt</th>\n",
       "      <th>yuca</th>\n",
       "      <th>zucchini</th>\n",
       "    </tr>\n",
       "  </thead>\n",
       "  <tbody>\n",
       "    <tr>\n",
       "      <th>0</th>\n",
       "      <td>2.500</td>\n",
       "      <td>0.0</td>\n",
       "      <td>0.0</td>\n",
       "      <td>0.0</td>\n",
       "      <td>0.0</td>\n",
       "      <td>1.0</td>\n",
       "      <td>0.0</td>\n",
       "      <td>0.0</td>\n",
       "      <td>0.0</td>\n",
       "      <td>0.0</td>\n",
       "      <td>...</td>\n",
       "      <td>0.0</td>\n",
       "      <td>0.0</td>\n",
       "      <td>0.0</td>\n",
       "      <td>0.0</td>\n",
       "      <td>0.0</td>\n",
       "      <td>0.0</td>\n",
       "      <td>0.0</td>\n",
       "      <td>0.0</td>\n",
       "      <td>0.0</td>\n",
       "      <td>0.0</td>\n",
       "    </tr>\n",
       "    <tr>\n",
       "      <th>1</th>\n",
       "      <td>4.375</td>\n",
       "      <td>0.0</td>\n",
       "      <td>0.0</td>\n",
       "      <td>0.0</td>\n",
       "      <td>0.0</td>\n",
       "      <td>0.0</td>\n",
       "      <td>0.0</td>\n",
       "      <td>0.0</td>\n",
       "      <td>0.0</td>\n",
       "      <td>0.0</td>\n",
       "      <td>...</td>\n",
       "      <td>0.0</td>\n",
       "      <td>0.0</td>\n",
       "      <td>0.0</td>\n",
       "      <td>0.0</td>\n",
       "      <td>0.0</td>\n",
       "      <td>0.0</td>\n",
       "      <td>0.0</td>\n",
       "      <td>0.0</td>\n",
       "      <td>0.0</td>\n",
       "      <td>0.0</td>\n",
       "    </tr>\n",
       "    <tr>\n",
       "      <th>2</th>\n",
       "      <td>3.750</td>\n",
       "      <td>0.0</td>\n",
       "      <td>0.0</td>\n",
       "      <td>0.0</td>\n",
       "      <td>0.0</td>\n",
       "      <td>0.0</td>\n",
       "      <td>0.0</td>\n",
       "      <td>0.0</td>\n",
       "      <td>0.0</td>\n",
       "      <td>0.0</td>\n",
       "      <td>...</td>\n",
       "      <td>0.0</td>\n",
       "      <td>0.0</td>\n",
       "      <td>0.0</td>\n",
       "      <td>0.0</td>\n",
       "      <td>0.0</td>\n",
       "      <td>0.0</td>\n",
       "      <td>0.0</td>\n",
       "      <td>0.0</td>\n",
       "      <td>0.0</td>\n",
       "      <td>0.0</td>\n",
       "    </tr>\n",
       "    <tr>\n",
       "      <th>3</th>\n",
       "      <td>5.000</td>\n",
       "      <td>0.0</td>\n",
       "      <td>0.0</td>\n",
       "      <td>0.0</td>\n",
       "      <td>0.0</td>\n",
       "      <td>0.0</td>\n",
       "      <td>0.0</td>\n",
       "      <td>0.0</td>\n",
       "      <td>0.0</td>\n",
       "      <td>0.0</td>\n",
       "      <td>...</td>\n",
       "      <td>0.0</td>\n",
       "      <td>0.0</td>\n",
       "      <td>0.0</td>\n",
       "      <td>0.0</td>\n",
       "      <td>0.0</td>\n",
       "      <td>0.0</td>\n",
       "      <td>0.0</td>\n",
       "      <td>0.0</td>\n",
       "      <td>0.0</td>\n",
       "      <td>0.0</td>\n",
       "    </tr>\n",
       "    <tr>\n",
       "      <th>4</th>\n",
       "      <td>3.125</td>\n",
       "      <td>0.0</td>\n",
       "      <td>0.0</td>\n",
       "      <td>0.0</td>\n",
       "      <td>0.0</td>\n",
       "      <td>0.0</td>\n",
       "      <td>0.0</td>\n",
       "      <td>0.0</td>\n",
       "      <td>0.0</td>\n",
       "      <td>0.0</td>\n",
       "      <td>...</td>\n",
       "      <td>0.0</td>\n",
       "      <td>0.0</td>\n",
       "      <td>0.0</td>\n",
       "      <td>0.0</td>\n",
       "      <td>0.0</td>\n",
       "      <td>0.0</td>\n",
       "      <td>0.0</td>\n",
       "      <td>0.0</td>\n",
       "      <td>0.0</td>\n",
       "      <td>0.0</td>\n",
       "    </tr>\n",
       "  </tbody>\n",
       "</table>\n",
       "<p>5 rows × 350 columns</p>\n",
       "</div>"
      ],
      "text/plain": [
       "   rating  almond  amaretto  anchovy  anise  apple  apple juice  apricot  \\\n",
       "0   2.500     0.0       0.0      0.0    0.0    1.0          0.0      0.0   \n",
       "1   4.375     0.0       0.0      0.0    0.0    0.0          0.0      0.0   \n",
       "2   3.750     0.0       0.0      0.0    0.0    0.0          0.0      0.0   \n",
       "3   5.000     0.0       0.0      0.0    0.0    0.0          0.0      0.0   \n",
       "4   3.125     0.0       0.0      0.0    0.0    0.0          0.0      0.0   \n",
       "\n",
       "   artichoke  arugula  ...  wheat/gluten-free  whiskey  white wine  \\\n",
       "0        0.0      0.0  ...                0.0      0.0         0.0   \n",
       "1        0.0      0.0  ...                0.0      0.0         0.0   \n",
       "2        0.0      0.0  ...                0.0      0.0         0.0   \n",
       "3        0.0      0.0  ...                0.0      0.0         0.0   \n",
       "4        0.0      0.0  ...                0.0      0.0         0.0   \n",
       "\n",
       "   whole wheat  wild rice  wine  yellow squash  yogurt  yuca  zucchini  \n",
       "0          0.0        0.0   0.0            0.0     0.0   0.0       0.0  \n",
       "1          0.0        0.0   0.0            0.0     0.0   0.0       0.0  \n",
       "2          0.0        0.0   0.0            0.0     0.0   0.0       0.0  \n",
       "3          0.0        0.0   0.0            0.0     0.0   0.0       0.0  \n",
       "4          0.0        0.0   0.0            0.0     0.0   0.0       0.0  \n",
       "\n",
       "[5 rows x 350 columns]"
      ]
     },
     "execution_count": 5,
     "metadata": {},
     "output_type": "execute_result"
    }
   ],
   "source": [
    "df = remove_columns()\n",
    "df.head()"
   ]
  },
  {
   "cell_type": "markdown",
   "metadata": {},
   "source": [
    "# Подбор лучшей регрессии"
   ]
  },
  {
   "cell_type": "markdown",
   "metadata": {},
   "source": [
    "# Linear Regression"
   ]
  },
  {
   "cell_type": "code",
   "execution_count": 6,
   "metadata": {},
   "outputs": [
    {
     "name": "stdout",
     "output_type": "stream",
     "text": [
      "train_test: error \"['rating1'] not found in axis\"\n",
      "fit_model: error This LinearRegression estimator requires y to be passed, but the target y is None.\n",
      "==========Predict Model==========\n",
      "predict_model: error This LinearRegression instance is not fitted yet. Call 'fit' with appropriate arguments before using this estimator.\n",
      "==========Cross-Validation==========\n",
      "cross_validation: error The 'X' parameter of cross_val_score must be an array-like or a sparse matrix. Got None instead.\n"
     ]
    }
   ],
   "source": [
    "model = r.Regressor()\n",
    "model.train_test(df, 'rating1')\n",
    "model.create_model(r.LinearRegression)\n",
    "model.fit_model()\n",
    "model.predict_model()\n",
    "model.cross_validation()"
   ]
  },
  {
   "cell_type": "code",
   "execution_count": 7,
   "metadata": {},
   "outputs": [
    {
     "name": "stdout",
     "output_type": "stream",
     "text": [
      "==========Parameter Search==========\n",
      "Best params: {'copy_X': True, 'fit_intercept': True, 'positive': False}\n",
      "Best score: 1.6985\n",
      "==========Predict Model==========\n",
      "Train: MSE = 1.5729 | RMSE = 1.2542\n",
      "Test: MSE = 1.5842 | RMSE = 1.2586\n",
      "==========Cross-Validation==========\n",
      "MSE = 1.712 | RMSE = 1.3085\n",
      "MSE = 1.6769 | RMSE = 1.2949\n",
      "MSE = 1.6543 | RMSE = 1.2862\n",
      "MSE = 1.6617 | RMSE = 1.2891\n"
     ]
    }
   ],
   "source": [
    "model_lr = r.Regressor()\n",
    "model_lr.train_test(df, 'rating')\n",
    "param_grid = {\n",
    "    'fit_intercept': [True, False],\n",
    "    'copy_X': [True, False],\n",
    "    'positive': [True, False]\n",
    "}\n",
    "model_lr.create_model(r.LinearRegression)\n",
    "model_lr.parameter_search(param_grid)\n",
    "model_lr.predict_model()\n",
    "model_lr.cross_validation()"
   ]
  },
  {
   "cell_type": "code",
   "execution_count": 8,
   "metadata": {},
   "outputs": [],
   "source": [
    "# joblib.dump(model_lr, './model/model_lr.pkl')"
   ]
  },
  {
   "cell_type": "code",
   "execution_count": 9,
   "metadata": {},
   "outputs": [],
   "source": [
    "# model_lr = joblib.load('./model/model_lr.pkl')"
   ]
  },
  {
   "cell_type": "markdown",
   "metadata": {},
   "source": [
    "## Decision Tree Regressor"
   ]
  },
  {
   "cell_type": "code",
   "execution_count": 10,
   "metadata": {},
   "outputs": [
    {
     "name": "stdout",
     "output_type": "stream",
     "text": [
      "==========Predict Model==========\n",
      "Train: MSE = 0.22597 | RMSE = 0.47537\n",
      "Test: MSE = 2.7472 | RMSE = 1.6575\n",
      "==========Cross-Validation==========\n",
      "MSE = 2.8865 | RMSE = 1.699\n",
      "MSE = 2.9056 | RMSE = 1.7046\n",
      "MSE = 2.7655 | RMSE = 1.663\n",
      "MSE = 2.8076 | RMSE = 1.6756\n"
     ]
    }
   ],
   "source": [
    "model = r.Regressor()\n",
    "model.train_test(df, 'rating')\n",
    "model.create_model(r.DecisionTreeRegressor, {'random_state': 21})\n",
    "model.fit_model()\n",
    "model.predict_model()\n",
    "model.cross_validation()"
   ]
  },
  {
   "cell_type": "code",
   "execution_count": 11,
   "metadata": {},
   "outputs": [
    {
     "name": "stdout",
     "output_type": "stream",
     "text": [
      "==========Parameter Search==========\n",
      "Best params: {'criterion': 'poisson', 'max_depth': None, 'max_features': 'log2', 'min_samples_leaf': 1, 'min_samples_split': 2, 'min_weight_fraction_leaf': 0.0, 'splitter': 'random'}\n",
      "Best score: 2.1431\n",
      "==========Predict Model==========\n",
      "Train: MSE = 1.0538 | RMSE = 1.0265\n",
      "Test: MSE = 2.0443 | RMSE = 1.4298\n",
      "==========Cross-Validation==========\n",
      "MSE = 2.2545 | RMSE = 1.5015\n",
      "MSE = 2.1597 | RMSE = 1.4696\n",
      "MSE = 2.0829 | RMSE = 1.4432\n",
      "MSE = 2.1099 | RMSE = 1.4525\n"
     ]
    }
   ],
   "source": [
    "model_dtr = r.Regressor()\n",
    "model_dtr.train_test(df, 'rating')\n",
    "param_grid = {\n",
    "    'criterion': ['squared_error', 'friedman_mse', 'absolute_error', 'poisson'],\n",
    "    'splitter': ['best', 'random'],\n",
    "    'max_depth': [None],\n",
    "    'min_samples_split': [2],\n",
    "    'min_samples_leaf': [1],\n",
    "    'min_weight_fraction_leaf': [0.0],\n",
    "    'max_features': ['sqrt', 'log2']\n",
    "}\n",
    "model_dtr.create_model(r.DecisionTreeRegressor, {'random_state': 21})\n",
    "model_dtr.parameter_search(param_grid)\n",
    "model_dtr.predict_model()\n",
    "model_dtr.cross_validation()"
   ]
  },
  {
   "cell_type": "code",
   "execution_count": 12,
   "metadata": {},
   "outputs": [
    {
     "name": "stdout",
     "output_type": "stream",
     "text": [
      "==========Parameter Search==========\n",
      "Best params: {'criterion': 'poisson', 'max_depth': np.int64(50), 'max_features': 'log2', 'min_samples_leaf': np.int64(7), 'min_samples_split': np.int64(17), 'min_weight_fraction_leaf': 0.0, 'splitter': 'random'}\n",
      "Best score: 1.7166\n",
      "==========Predict Model==========\n",
      "Train: MSE = 1.6936 | RMSE = 1.3014\n",
      "Test: MSE = 1.6774 | RMSE = 1.2952\n",
      "==========Cross-Validation==========\n",
      "MSE = 1.7573 | RMSE = 1.3256\n",
      "MSE = 1.6808 | RMSE = 1.2965\n",
      "MSE = 1.6725 | RMSE = 1.2933\n",
      "MSE = 1.7257 | RMSE = 1.3137\n"
     ]
    }
   ],
   "source": [
    "model_dtr = r.Regressor()\n",
    "model_dtr.train_test(df, 'rating')\n",
    "param_grid = {\n",
    "    'criterion': ['poisson'],\n",
    "    'splitter': ['random'],\n",
    "    'max_depth': np.arange(10, 100, 10),\n",
    "    'min_samples_split': np.arange(2, 20, 1),\n",
    "    'min_samples_leaf': np.arange(1, 20, 1),\n",
    "    'min_weight_fraction_leaf': [0.0],\n",
    "    'max_features': ['log2']\n",
    "}\n",
    "model_dtr.create_model(r.DecisionTreeRegressor, {'random_state': 21})\n",
    "model_dtr.parameter_search(param_grid)\n",
    "model_dtr.predict_model()\n",
    "model_dtr.cross_validation()"
   ]
  },
  {
   "cell_type": "code",
   "execution_count": 13,
   "metadata": {},
   "outputs": [],
   "source": [
    "# joblib.dump(model_dtr, './model/model_dtr.pkl')"
   ]
  },
  {
   "cell_type": "code",
   "execution_count": 14,
   "metadata": {},
   "outputs": [],
   "source": [
    "# model_dtr = joblib.load('./model/model_dtr.pkl')"
   ]
  },
  {
   "cell_type": "markdown",
   "metadata": {},
   "source": [
    "## Random Forest Regressor"
   ]
  },
  {
   "cell_type": "code",
   "execution_count": 15,
   "metadata": {},
   "outputs": [
    {
     "name": "stdout",
     "output_type": "stream",
     "text": [
      "==========Predict Model==========\n",
      "Train: MSE = 0.41766 | RMSE = 0.64626\n",
      "Test: MSE = 1.722 | RMSE = 1.3123\n",
      "==========Cross-Validation==========\n",
      "MSE = 1.798 | RMSE = 1.3409\n",
      "MSE = 1.7681 | RMSE = 1.3297\n",
      "MSE = 1.7454 | RMSE = 1.3211\n",
      "MSE = 1.7524 | RMSE = 1.3238\n"
     ]
    }
   ],
   "source": [
    "model = r.Regressor()\n",
    "model.train_test(df, 'rating')\n",
    "model.create_model(r.RandomForestRegressor, {'random_state': 21})\n",
    "model.fit_model()\n",
    "model.predict_model()\n",
    "model.cross_validation()"
   ]
  },
  {
   "cell_type": "code",
   "execution_count": 16,
   "metadata": {},
   "outputs": [
    {
     "name": "stdout",
     "output_type": "stream",
     "text": [
      "==========Parameter Search==========\n",
      "Best params: {'criterion': 'poisson', 'max_depth': None, 'max_features': 'log2', 'min_samples_leaf': 1, 'min_samples_split': 2, 'n_estimators': 10}\n",
      "Best score: 1.6931\n",
      "==========Predict Model==========\n",
      "Train: MSE = 1.07 | RMSE = 1.0344\n",
      "Test: MSE = 1.5883 | RMSE = 1.2603\n",
      "==========Cross-Validation==========\n",
      "MSE = 1.7181 | RMSE = 1.3108\n",
      "MSE = 1.6386 | RMSE = 1.2801\n",
      "MSE = 1.6434 | RMSE = 1.282\n",
      "MSE = 1.6622 | RMSE = 1.2893\n"
     ]
    }
   ],
   "source": [
    "model_rfr = r.Regressor()\n",
    "model_rfr.train_test(df, 'rating')\n",
    "param_grid = {\n",
    "    'n_estimators': [10],\n",
    "    'criterion': ['squared_error', 'friedman_mse', 'absolute_error', 'poisson'],\n",
    "    'max_depth': [None],\n",
    "    'min_samples_split': [2],\n",
    "    'min_samples_leaf': [1],\n",
    "    'max_features': ['sqrt', 'log2']\n",
    "}\n",
    "model_rfr.create_model(r.RandomForestRegressor, {'random_state': 21})\n",
    "model_rfr.parameter_search(param_grid)\n",
    "model_rfr.predict_model()\n",
    "model_rfr.cross_validation()"
   ]
  },
  {
   "cell_type": "code",
   "execution_count": 17,
   "metadata": {},
   "outputs": [
    {
     "name": "stdout",
     "output_type": "stream",
     "text": [
      "==========Parameter Search==========\n",
      "Best params: {'criterion': 'poisson', 'max_depth': np.int64(60), 'max_features': 'log2', 'min_samples_leaf': np.int64(1), 'min_samples_split': np.int64(18), 'n_estimators': 10}\n",
      "Best score: 1.6544\n",
      "==========Predict Model==========\n",
      "Train: MSE = 1.4448 | RMSE = 1.202\n",
      "Test: MSE = 1.5783 | RMSE = 1.2563\n",
      "==========Cross-Validation==========\n",
      "MSE = 1.68 | RMSE = 1.2961\n",
      "MSE = 1.642 | RMSE = 1.2814\n",
      "MSE = 1.6471 | RMSE = 1.2834\n",
      "MSE = 1.6401 | RMSE = 1.2807\n"
     ]
    }
   ],
   "source": [
    "model_rfr = r.Regressor()\n",
    "model_rfr.train_test(df, 'rating')\n",
    "param_grid = {\n",
    "    'n_estimators': [10],\n",
    "    'criterion': ['poisson'],\n",
    "    'max_depth': np.arange(10, 100, 10),\n",
    "    'min_samples_split': np.arange(2, 20, 1),\n",
    "    'min_samples_leaf': np.arange(1, 20, 1),\n",
    "    'max_features': ['log2']\n",
    "}\n",
    "model_rfr.create_model(r.RandomForestRegressor, {'random_state': 21})\n",
    "model_rfr.parameter_search(param_grid)\n",
    "model_rfr.predict_model()\n",
    "model_rfr.cross_validation()"
   ]
  },
  {
   "cell_type": "code",
   "execution_count": 18,
   "metadata": {},
   "outputs": [],
   "source": [
    "# joblib.dump(model_rfr, './model/model_rfr.pkl')"
   ]
  },
  {
   "cell_type": "code",
   "execution_count": 19,
   "metadata": {},
   "outputs": [],
   "source": [
    "# model_rfr = joblib.load('./model/model_rfr.pkl')"
   ]
  },
  {
   "cell_type": "markdown",
   "metadata": {},
   "source": [
    "## Bagging Regressor"
   ]
  },
  {
   "cell_type": "code",
   "execution_count": 20,
   "metadata": {},
   "outputs": [
    {
     "name": "stdout",
     "output_type": "stream",
     "text": [
      "==========Predict Model==========\n",
      "Train: MSE = 1.6361 | RMSE = 1.2791\n",
      "Test: MSE = 1.5958 | RMSE = 1.2632\n",
      "==========Cross-Validation==========\n",
      "MSE = 1.7157 | RMSE = 1.3098\n",
      "MSE = 1.6259 | RMSE = 1.2751\n",
      "MSE = 1.6774 | RMSE = 1.2952\n",
      "MSE = 1.6843 | RMSE = 1.2978\n"
     ]
    }
   ],
   "source": [
    "model = r.Regressor()\n",
    "model.train_test(df, 'rating')\n",
    "model.create_model(r.BaggingRegressor, {'estimator': model_dtr.model, 'random_state': 21, 'n_jobs': -1})\n",
    "model.fit_model()\n",
    "model.predict_model()\n",
    "model.cross_validation()"
   ]
  },
  {
   "cell_type": "code",
   "execution_count": 21,
   "metadata": {},
   "outputs": [
    {
     "name": "stdout",
     "output_type": "stream",
     "text": [
      "==========Parameter Search==========\n",
      "Best params: {'bootstrap': True, 'bootstrap_features': True, 'max_features': 1, 'max_samples': 1, 'n_estimators': 10}\n",
      "Best score: 1.8673\n",
      "==========Predict Model==========\n",
      "Train: MSE = 2.0452 | RMSE = 1.4301\n",
      "Test: MSE = 1.9266 | RMSE = 1.388\n",
      "==========Cross-Validation==========\n",
      "MSE = 3.5988 | RMSE = 1.8971\n",
      "MSE = 1.9027 | RMSE = 1.3794\n",
      "MSE = 1.8378 | RMSE = 1.3557\n",
      "MSE = 2.0568 | RMSE = 1.4342\n"
     ]
    }
   ],
   "source": [
    "model_br = r.Regressor()\n",
    "model_br.train_test(df, 'rating')\n",
    "param_grid = {\n",
    "    'n_estimators': [10],\n",
    "    'max_samples': [1],\n",
    "    'max_features': [1],\n",
    "    'bootstrap': [True, False],\n",
    "    'bootstrap_features': [True, False]\n",
    "}\n",
    "model_br.create_model(r.BaggingRegressor, {'estimator': model_dtr.model, 'random_state': 21, 'n_jobs': -1})\n",
    "model_br.parameter_search(param_grid)\n",
    "model_br.predict_model()\n",
    "model_br.cross_validation()"
   ]
  },
  {
   "cell_type": "code",
   "execution_count": 22,
   "metadata": {},
   "outputs": [
    {
     "name": "stdout",
     "output_type": "stream",
     "text": [
      "==========Parameter Search==========\n",
      "Best params: {'bootstrap': True, 'bootstrap_features': True, 'max_features': np.int64(4), 'max_samples': np.int64(9), 'n_estimators': np.int64(90)}\n",
      "Best score: 1.8199\n",
      "==========Predict Model==========\n",
      "Train: MSE = 1.8215 | RMSE = 1.3496\n",
      "Test: MSE = 1.7098 | RMSE = 1.3076\n",
      "==========Cross-Validation==========\n",
      "MSE = 1.8517 | RMSE = 1.3608\n",
      "MSE = 1.7644 | RMSE = 1.3283\n",
      "MSE = 1.8352 | RMSE = 1.3547\n",
      "MSE = 1.8411 | RMSE = 1.3569\n"
     ]
    }
   ],
   "source": [
    "model_br = r.Regressor()\n",
    "model_br.train_test(df, 'rating')\n",
    "param_grid = {\n",
    "    'n_estimators': np.arange(10, 100, 10),\n",
    "    'max_samples': np.arange(1, 10, 1),\n",
    "    'max_features': np.arange(1, 10, 1),\n",
    "    'bootstrap': [True],\n",
    "    'bootstrap_features': [True]\n",
    "}\n",
    "model_br.create_model(r.BaggingRegressor, {'estimator': model_dtr.model, 'random_state': 21, 'n_jobs': -1})\n",
    "model_br.parameter_search(param_grid)\n",
    "model_br.predict_model()\n",
    "model_br.cross_validation()"
   ]
  },
  {
   "cell_type": "code",
   "execution_count": 23,
   "metadata": {},
   "outputs": [],
   "source": [
    "# joblib.dump(model_br, './model/model_br.pkl')"
   ]
  },
  {
   "cell_type": "code",
   "execution_count": 24,
   "metadata": {},
   "outputs": [],
   "source": [
    "# model_br = joblib.load('./model/model_br.pkl')"
   ]
  },
  {
   "cell_type": "markdown",
   "metadata": {},
   "source": [
    "## Voting Regressor"
   ]
  },
  {
   "cell_type": "code",
   "execution_count": 25,
   "metadata": {},
   "outputs": [
    {
     "name": "stdout",
     "output_type": "stream",
     "text": [
      "==========Predict Model==========\n",
      "Train: MSE = 1.5263 | RMSE = 1.2355\n",
      "Test: MSE = 1.5722 | RMSE = 1.2539\n",
      "==========Cross-Validation==========\n",
      "MSE = 1.678 | RMSE = 1.2954\n",
      "MSE = 1.6189 | RMSE = 1.2724\n",
      "MSE = 1.6233 | RMSE = 1.2741\n",
      "MSE = 1.6409 | RMSE = 1.281\n"
     ]
    }
   ],
   "source": [
    "model_vr = r.Regressor()\n",
    "model_vr.train_test(df, 'rating')\n",
    "estimators = [\n",
    "    ('dtr', model_dtr.model),\n",
    "    ('lr', model_lr.model),\n",
    "    ('rfr', model_rfr.model)\n",
    "]\n",
    "final_estimator = r.LinearRegression()\n",
    "model_vr.create_model(r.VotingRegressor, {'estimators': estimators, 'n_jobs': -1})\n",
    "model_vr.fit_model()\n",
    "model_vr.predict_model()\n",
    "model_vr.cross_validation()"
   ]
  },
  {
   "cell_type": "code",
   "execution_count": 26,
   "metadata": {},
   "outputs": [
    {
     "name": "stdout",
     "output_type": "stream",
     "text": [
      "==========Parameter Search==========\n",
      "Best params: {'weights': [1, 2, 3]}\n",
      "Best score: 1.6401\n",
      "==========Predict Model==========\n",
      "Train: MSE = 1.4932 | RMSE = 1.2219\n",
      "Test: MSE = 1.5629 | RMSE = 1.2502\n",
      "==========Cross-Validation==========\n",
      "MSE = 1.6703 | RMSE = 1.2924\n",
      "MSE = 1.6199 | RMSE = 1.2728\n",
      "MSE = 1.6229 | RMSE = 1.2739\n",
      "MSE = 1.6313 | RMSE = 1.2772\n"
     ]
    }
   ],
   "source": [
    "model_vr = r.Regressor()\n",
    "model_vr.train_test(df, 'rating')\n",
    "param_grid = {\n",
    "    'weights': [[1, 2, 3], [3, 2, 1], [2, 1, 3]]\n",
    "}\n",
    "model_vr.create_model(r.VotingRegressor, {'estimators': estimators, 'n_jobs': -1})\n",
    "model_vr.parameter_search(param_grid)\n",
    "model_vr.predict_model()\n",
    "model_vr.cross_validation()"
   ]
  },
  {
   "cell_type": "code",
   "execution_count": 27,
   "metadata": {},
   "outputs": [],
   "source": [
    "# joblib.dump(model_vr, './model/model_vr.pkl')"
   ]
  },
  {
   "cell_type": "code",
   "execution_count": 28,
   "metadata": {},
   "outputs": [],
   "source": [
    "# model_vr = joblib.load('./model/model_vr.pkl')"
   ]
  },
  {
   "cell_type": "markdown",
   "metadata": {},
   "source": [
    "## Stacking Regressor"
   ]
  },
  {
   "cell_type": "code",
   "execution_count": 29,
   "metadata": {},
   "outputs": [
    {
     "name": "stdout",
     "output_type": "stream",
     "text": [
      "==========Predict Model==========\n",
      "Train: MSE = 1.0821 | RMSE = 1.0402\n",
      "Test: MSE = 1.5265 | RMSE = 1.2355\n",
      "==========Cross-Validation==========\n",
      "MSE = 1.6477 | RMSE = 1.2836\n",
      "MSE = 1.5882 | RMSE = 1.2602\n",
      "MSE = 1.6005 | RMSE = 1.2651\n",
      "MSE = 1.6136 | RMSE = 1.2703\n"
     ]
    }
   ],
   "source": [
    "model_sr = r.Regressor()\n",
    "model_sr.train_test(df, 'rating')\n",
    "estimators = [\n",
    "    ('dt', r.DecisionTreeRegressor(random_state=21)),\n",
    "    ('lr', r.LinearRegression()),\n",
    "    ('rf', r.RandomForestRegressor(n_estimators=10, random_state=21))\n",
    "]\n",
    "final_estimator = r.LinearRegression()\n",
    "model_sr.create_model(r.StackingRegressor, {'estimators': estimators, 'final_estimator': final_estimator, 'cv': 2, 'n_jobs': -1})\n",
    "model_sr.fit_model()\n",
    "model_sr.predict_model()\n",
    "model_sr.cross_validation()"
   ]
  },
  {
   "cell_type": "code",
   "execution_count": 30,
   "metadata": {},
   "outputs": [
    {
     "name": "stdout",
     "output_type": "stream",
     "text": [
      "==========Predict Model==========\n",
      "Train: MSE = 1.4545 | RMSE = 1.206\n",
      "Test: MSE = 1.5611 | RMSE = 1.2494\n",
      "==========Cross-Validation==========\n",
      "MSE = 1.6694 | RMSE = 1.2921\n",
      "MSE = 1.6237 | RMSE = 1.2742\n",
      "MSE = 1.6256 | RMSE = 1.275\n",
      "MSE = 1.6266 | RMSE = 1.2754\n"
     ]
    }
   ],
   "source": [
    "model_sr = r.Regressor()\n",
    "model_sr.train_test(df, 'rating')\n",
    "estimators = [\n",
    "    ('dtr', model_dtr.model),\n",
    "    ('lr', model_lr.model),\n",
    "    ('rfr', model_rfr.model)\n",
    "]\n",
    "final_estimator = r.LinearRegression()\n",
    "model_sr.create_model(r.StackingRegressor, {'estimators': estimators, 'final_estimator': final_estimator, 'cv': 2, 'n_jobs': -1})\n",
    "model_sr.fit_model()\n",
    "model_sr.predict_model()\n",
    "model_sr.cross_validation()"
   ]
  },
  {
   "cell_type": "code",
   "execution_count": 31,
   "metadata": {},
   "outputs": [],
   "source": [
    "# joblib.dump(model_sr, './model/model_sr.pkl')"
   ]
  },
  {
   "cell_type": "code",
   "execution_count": 32,
   "metadata": {},
   "outputs": [],
   "source": [
    "# model_sr = joblib.load('./model/model_sr.pkl')"
   ]
  },
  {
   "cell_type": "markdown",
   "metadata": {},
   "source": [
    "# Предсказание"
   ]
  },
  {
   "cell_type": "code",
   "execution_count": 33,
   "metadata": {},
   "outputs": [],
   "source": [
    "def func(lst):\n",
    "    x = []\n",
    "\n",
    "    for item in df.columns:\n",
    "        if item in lst:\n",
    "            x.append(1)\n",
    "            lst.remove(item)\n",
    "        else:\n",
    "            x.append(0)\n",
    "\n",
    "    if len(lst) == 0:\n",
    "        x = pd.DataFrame([x], columns=df.columns)\n",
    "        x.drop(['rating'], axis=1, inplace=True)\n",
    "        return x\n",
    "    else:\n",
    "        raise Exception(f'{lst} нет таких ингредиентов')"
   ]
  },
  {
   "cell_type": "markdown",
   "metadata": {},
   "source": [
    "# Подбор лучшего классификатора"
   ]
  },
  {
   "cell_type": "markdown",
   "metadata": {},
   "source": [
    "## Бинаризация целевого столбца и разбиение на подвыборки"
   ]
  },
  {
   "cell_type": "code",
   "execution_count": 34,
   "metadata": {},
   "outputs": [
    {
     "data": {
      "text/html": [
       "<div>\n",
       "<style scoped>\n",
       "    .dataframe tbody tr th:only-of-type {\n",
       "        vertical-align: middle;\n",
       "    }\n",
       "\n",
       "    .dataframe tbody tr th {\n",
       "        vertical-align: top;\n",
       "    }\n",
       "\n",
       "    .dataframe thead th {\n",
       "        text-align: right;\n",
       "    }\n",
       "</style>\n",
       "<table border=\"1\" class=\"dataframe\">\n",
       "  <thead>\n",
       "    <tr style=\"text-align: right;\">\n",
       "      <th></th>\n",
       "      <th>rating</th>\n",
       "      <th>almond</th>\n",
       "      <th>amaretto</th>\n",
       "      <th>anchovy</th>\n",
       "      <th>anise</th>\n",
       "      <th>apple</th>\n",
       "      <th>apple juice</th>\n",
       "      <th>apricot</th>\n",
       "      <th>artichoke</th>\n",
       "      <th>arugula</th>\n",
       "      <th>...</th>\n",
       "      <th>wheat/gluten-free</th>\n",
       "      <th>whiskey</th>\n",
       "      <th>white wine</th>\n",
       "      <th>whole wheat</th>\n",
       "      <th>wild rice</th>\n",
       "      <th>wine</th>\n",
       "      <th>yellow squash</th>\n",
       "      <th>yogurt</th>\n",
       "      <th>yuca</th>\n",
       "      <th>zucchini</th>\n",
       "    </tr>\n",
       "  </thead>\n",
       "  <tbody>\n",
       "    <tr>\n",
       "      <th>0</th>\n",
       "      <td>2</td>\n",
       "      <td>0.0</td>\n",
       "      <td>0.0</td>\n",
       "      <td>0.0</td>\n",
       "      <td>0.0</td>\n",
       "      <td>1.0</td>\n",
       "      <td>0.0</td>\n",
       "      <td>0.0</td>\n",
       "      <td>0.0</td>\n",
       "      <td>0.0</td>\n",
       "      <td>...</td>\n",
       "      <td>0.0</td>\n",
       "      <td>0.0</td>\n",
       "      <td>0.0</td>\n",
       "      <td>0.0</td>\n",
       "      <td>0.0</td>\n",
       "      <td>0.0</td>\n",
       "      <td>0.0</td>\n",
       "      <td>0.0</td>\n",
       "      <td>0.0</td>\n",
       "      <td>0.0</td>\n",
       "    </tr>\n",
       "    <tr>\n",
       "      <th>1</th>\n",
       "      <td>4</td>\n",
       "      <td>0.0</td>\n",
       "      <td>0.0</td>\n",
       "      <td>0.0</td>\n",
       "      <td>0.0</td>\n",
       "      <td>0.0</td>\n",
       "      <td>0.0</td>\n",
       "      <td>0.0</td>\n",
       "      <td>0.0</td>\n",
       "      <td>0.0</td>\n",
       "      <td>...</td>\n",
       "      <td>0.0</td>\n",
       "      <td>0.0</td>\n",
       "      <td>0.0</td>\n",
       "      <td>0.0</td>\n",
       "      <td>0.0</td>\n",
       "      <td>0.0</td>\n",
       "      <td>0.0</td>\n",
       "      <td>0.0</td>\n",
       "      <td>0.0</td>\n",
       "      <td>0.0</td>\n",
       "    </tr>\n",
       "    <tr>\n",
       "      <th>2</th>\n",
       "      <td>4</td>\n",
       "      <td>0.0</td>\n",
       "      <td>0.0</td>\n",
       "      <td>0.0</td>\n",
       "      <td>0.0</td>\n",
       "      <td>0.0</td>\n",
       "      <td>0.0</td>\n",
       "      <td>0.0</td>\n",
       "      <td>0.0</td>\n",
       "      <td>0.0</td>\n",
       "      <td>...</td>\n",
       "      <td>0.0</td>\n",
       "      <td>0.0</td>\n",
       "      <td>0.0</td>\n",
       "      <td>0.0</td>\n",
       "      <td>0.0</td>\n",
       "      <td>0.0</td>\n",
       "      <td>0.0</td>\n",
       "      <td>0.0</td>\n",
       "      <td>0.0</td>\n",
       "      <td>0.0</td>\n",
       "    </tr>\n",
       "    <tr>\n",
       "      <th>3</th>\n",
       "      <td>5</td>\n",
       "      <td>0.0</td>\n",
       "      <td>0.0</td>\n",
       "      <td>0.0</td>\n",
       "      <td>0.0</td>\n",
       "      <td>0.0</td>\n",
       "      <td>0.0</td>\n",
       "      <td>0.0</td>\n",
       "      <td>0.0</td>\n",
       "      <td>0.0</td>\n",
       "      <td>...</td>\n",
       "      <td>0.0</td>\n",
       "      <td>0.0</td>\n",
       "      <td>0.0</td>\n",
       "      <td>0.0</td>\n",
       "      <td>0.0</td>\n",
       "      <td>0.0</td>\n",
       "      <td>0.0</td>\n",
       "      <td>0.0</td>\n",
       "      <td>0.0</td>\n",
       "      <td>0.0</td>\n",
       "    </tr>\n",
       "    <tr>\n",
       "      <th>4</th>\n",
       "      <td>3</td>\n",
       "      <td>0.0</td>\n",
       "      <td>0.0</td>\n",
       "      <td>0.0</td>\n",
       "      <td>0.0</td>\n",
       "      <td>0.0</td>\n",
       "      <td>0.0</td>\n",
       "      <td>0.0</td>\n",
       "      <td>0.0</td>\n",
       "      <td>0.0</td>\n",
       "      <td>...</td>\n",
       "      <td>0.0</td>\n",
       "      <td>0.0</td>\n",
       "      <td>0.0</td>\n",
       "      <td>0.0</td>\n",
       "      <td>0.0</td>\n",
       "      <td>0.0</td>\n",
       "      <td>0.0</td>\n",
       "      <td>0.0</td>\n",
       "      <td>0.0</td>\n",
       "      <td>0.0</td>\n",
       "    </tr>\n",
       "    <tr>\n",
       "      <th>...</th>\n",
       "      <td>...</td>\n",
       "      <td>...</td>\n",
       "      <td>...</td>\n",
       "      <td>...</td>\n",
       "      <td>...</td>\n",
       "      <td>...</td>\n",
       "      <td>...</td>\n",
       "      <td>...</td>\n",
       "      <td>...</td>\n",
       "      <td>...</td>\n",
       "      <td>...</td>\n",
       "      <td>...</td>\n",
       "      <td>...</td>\n",
       "      <td>...</td>\n",
       "      <td>...</td>\n",
       "      <td>...</td>\n",
       "      <td>...</td>\n",
       "      <td>...</td>\n",
       "      <td>...</td>\n",
       "      <td>...</td>\n",
       "      <td>...</td>\n",
       "    </tr>\n",
       "    <tr>\n",
       "      <th>20047</th>\n",
       "      <td>3</td>\n",
       "      <td>0.0</td>\n",
       "      <td>0.0</td>\n",
       "      <td>0.0</td>\n",
       "      <td>0.0</td>\n",
       "      <td>0.0</td>\n",
       "      <td>0.0</td>\n",
       "      <td>0.0</td>\n",
       "      <td>0.0</td>\n",
       "      <td>0.0</td>\n",
       "      <td>...</td>\n",
       "      <td>0.0</td>\n",
       "      <td>0.0</td>\n",
       "      <td>0.0</td>\n",
       "      <td>0.0</td>\n",
       "      <td>0.0</td>\n",
       "      <td>0.0</td>\n",
       "      <td>0.0</td>\n",
       "      <td>0.0</td>\n",
       "      <td>0.0</td>\n",
       "      <td>0.0</td>\n",
       "    </tr>\n",
       "    <tr>\n",
       "      <th>20048</th>\n",
       "      <td>4</td>\n",
       "      <td>0.0</td>\n",
       "      <td>0.0</td>\n",
       "      <td>0.0</td>\n",
       "      <td>0.0</td>\n",
       "      <td>0.0</td>\n",
       "      <td>0.0</td>\n",
       "      <td>0.0</td>\n",
       "      <td>1.0</td>\n",
       "      <td>0.0</td>\n",
       "      <td>...</td>\n",
       "      <td>1.0</td>\n",
       "      <td>0.0</td>\n",
       "      <td>0.0</td>\n",
       "      <td>0.0</td>\n",
       "      <td>0.0</td>\n",
       "      <td>0.0</td>\n",
       "      <td>0.0</td>\n",
       "      <td>0.0</td>\n",
       "      <td>0.0</td>\n",
       "      <td>0.0</td>\n",
       "    </tr>\n",
       "    <tr>\n",
       "      <th>20049</th>\n",
       "      <td>4</td>\n",
       "      <td>0.0</td>\n",
       "      <td>0.0</td>\n",
       "      <td>0.0</td>\n",
       "      <td>0.0</td>\n",
       "      <td>0.0</td>\n",
       "      <td>0.0</td>\n",
       "      <td>0.0</td>\n",
       "      <td>0.0</td>\n",
       "      <td>0.0</td>\n",
       "      <td>...</td>\n",
       "      <td>0.0</td>\n",
       "      <td>0.0</td>\n",
       "      <td>0.0</td>\n",
       "      <td>0.0</td>\n",
       "      <td>0.0</td>\n",
       "      <td>0.0</td>\n",
       "      <td>0.0</td>\n",
       "      <td>0.0</td>\n",
       "      <td>0.0</td>\n",
       "      <td>0.0</td>\n",
       "    </tr>\n",
       "    <tr>\n",
       "      <th>20050</th>\n",
       "      <td>4</td>\n",
       "      <td>0.0</td>\n",
       "      <td>0.0</td>\n",
       "      <td>0.0</td>\n",
       "      <td>0.0</td>\n",
       "      <td>0.0</td>\n",
       "      <td>0.0</td>\n",
       "      <td>0.0</td>\n",
       "      <td>0.0</td>\n",
       "      <td>0.0</td>\n",
       "      <td>...</td>\n",
       "      <td>0.0</td>\n",
       "      <td>0.0</td>\n",
       "      <td>0.0</td>\n",
       "      <td>0.0</td>\n",
       "      <td>0.0</td>\n",
       "      <td>0.0</td>\n",
       "      <td>0.0</td>\n",
       "      <td>0.0</td>\n",
       "      <td>0.0</td>\n",
       "      <td>0.0</td>\n",
       "    </tr>\n",
       "    <tr>\n",
       "      <th>20051</th>\n",
       "      <td>4</td>\n",
       "      <td>0.0</td>\n",
       "      <td>0.0</td>\n",
       "      <td>0.0</td>\n",
       "      <td>0.0</td>\n",
       "      <td>0.0</td>\n",
       "      <td>0.0</td>\n",
       "      <td>0.0</td>\n",
       "      <td>0.0</td>\n",
       "      <td>0.0</td>\n",
       "      <td>...</td>\n",
       "      <td>0.0</td>\n",
       "      <td>0.0</td>\n",
       "      <td>0.0</td>\n",
       "      <td>0.0</td>\n",
       "      <td>0.0</td>\n",
       "      <td>0.0</td>\n",
       "      <td>0.0</td>\n",
       "      <td>0.0</td>\n",
       "      <td>0.0</td>\n",
       "      <td>0.0</td>\n",
       "    </tr>\n",
       "  </tbody>\n",
       "</table>\n",
       "<p>20052 rows × 350 columns</p>\n",
       "</div>"
      ],
      "text/plain": [
       "       rating  almond  amaretto  anchovy  anise  apple  apple juice  apricot  \\\n",
       "0           2     0.0       0.0      0.0    0.0    1.0          0.0      0.0   \n",
       "1           4     0.0       0.0      0.0    0.0    0.0          0.0      0.0   \n",
       "2           4     0.0       0.0      0.0    0.0    0.0          0.0      0.0   \n",
       "3           5     0.0       0.0      0.0    0.0    0.0          0.0      0.0   \n",
       "4           3     0.0       0.0      0.0    0.0    0.0          0.0      0.0   \n",
       "...       ...     ...       ...      ...    ...    ...          ...      ...   \n",
       "20047       3     0.0       0.0      0.0    0.0    0.0          0.0      0.0   \n",
       "20048       4     0.0       0.0      0.0    0.0    0.0          0.0      0.0   \n",
       "20049       4     0.0       0.0      0.0    0.0    0.0          0.0      0.0   \n",
       "20050       4     0.0       0.0      0.0    0.0    0.0          0.0      0.0   \n",
       "20051       4     0.0       0.0      0.0    0.0    0.0          0.0      0.0   \n",
       "\n",
       "       artichoke  arugula  ...  wheat/gluten-free  whiskey  white wine  \\\n",
       "0            0.0      0.0  ...                0.0      0.0         0.0   \n",
       "1            0.0      0.0  ...                0.0      0.0         0.0   \n",
       "2            0.0      0.0  ...                0.0      0.0         0.0   \n",
       "3            0.0      0.0  ...                0.0      0.0         0.0   \n",
       "4            0.0      0.0  ...                0.0      0.0         0.0   \n",
       "...          ...      ...  ...                ...      ...         ...   \n",
       "20047        0.0      0.0  ...                0.0      0.0         0.0   \n",
       "20048        1.0      0.0  ...                1.0      0.0         0.0   \n",
       "20049        0.0      0.0  ...                0.0      0.0         0.0   \n",
       "20050        0.0      0.0  ...                0.0      0.0         0.0   \n",
       "20051        0.0      0.0  ...                0.0      0.0         0.0   \n",
       "\n",
       "       whole wheat  wild rice  wine  yellow squash  yogurt  yuca  zucchini  \n",
       "0              0.0        0.0   0.0            0.0     0.0   0.0       0.0  \n",
       "1              0.0        0.0   0.0            0.0     0.0   0.0       0.0  \n",
       "2              0.0        0.0   0.0            0.0     0.0   0.0       0.0  \n",
       "3              0.0        0.0   0.0            0.0     0.0   0.0       0.0  \n",
       "4              0.0        0.0   0.0            0.0     0.0   0.0       0.0  \n",
       "...            ...        ...   ...            ...     ...   ...       ...  \n",
       "20047          0.0        0.0   0.0            0.0     0.0   0.0       0.0  \n",
       "20048          0.0        0.0   0.0            0.0     0.0   0.0       0.0  \n",
       "20049          0.0        0.0   0.0            0.0     0.0   0.0       0.0  \n",
       "20050          0.0        0.0   0.0            0.0     0.0   0.0       0.0  \n",
       "20051          0.0        0.0   0.0            0.0     0.0   0.0       0.0  \n",
       "\n",
       "[20052 rows x 350 columns]"
      ]
     },
     "execution_count": 34,
     "metadata": {},
     "output_type": "execute_result"
    }
   ],
   "source": [
    "classing = r.Classification()\n",
    "classing.binarization_round(df, 'rating')\n",
    "classing.tr_tst_split(df, 'rating')\n",
    "df"
   ]
  },
  {
   "cell_type": "markdown",
   "metadata": {},
   "source": [
    "### Логистическая регрессия"
   ]
  },
  {
   "cell_type": "code",
   "execution_count": 35,
   "metadata": {},
   "outputs": [
    {
     "name": "stdout",
     "output_type": "stream",
     "text": [
      "Перекрестная проверка: 0.6683126265612458\n",
      "Точность на тестовой выборке: 0.6788830715532286\n"
     ]
    },
    {
     "data": {
      "text/plain": [
       "{'C': 1.0, 'penalty': 'l2', 'random_state': 21, 'solver': 'saga'}"
      ]
     },
     "execution_count": 35,
     "metadata": {},
     "output_type": "execute_result"
    }
   ],
   "source": [
    "classing.model_choose('LogisticRegression', {})\n",
    "logreg_params = {\n",
    "    'penalty': ['l2'],\n",
    "    'C': [0.1, 1.0, 10.0],\n",
    "    'solver': ['lbfgs', 'saga'],\n",
    "    'random_state': [21]\n",
    "}\n",
    "best_logreg_params = classing.parameter_select(logreg_params)\n",
    "best_logreg_params"
   ]
  },
  {
   "cell_type": "markdown",
   "metadata": {},
   "source": [
    "### Дерево решений"
   ]
  },
  {
   "cell_type": "code",
   "execution_count": 36,
   "metadata": {},
   "outputs": [
    {
     "name": "stdout",
     "output_type": "stream",
     "text": [
      "Перекрестная проверка: 0.6649711796300821\n",
      "Точность на тестовой выборке: 0.6761406133133882\n"
     ]
    },
    {
     "data": {
      "text/plain": [
       "{'class_weight': None, 'criterion': 'gini', 'max_depth': 8, 'random_state': 21}"
      ]
     },
     "execution_count": 36,
     "metadata": {},
     "output_type": "execute_result"
    }
   ],
   "source": [
    "classing.model_choose('DecisionTreeClassifier', {})\n",
    "tree_params = {\n",
    "    \"max_depth\": [i for i in range(1, 50)],\n",
    "    \"class_weight\": ['balanced', None],\n",
    "    \"criterion\": ['entropy', 'gini'],\n",
    "    'random_state': [21]\n",
    "}\n",
    "best_tree_params = classing.parameter_select(tree_params)\n",
    "best_tree_params"
   ]
  },
  {
   "cell_type": "markdown",
   "metadata": {},
   "source": [
    "### Случайный лес"
   ]
  },
  {
   "cell_type": "code",
   "execution_count": 37,
   "metadata": {},
   "outputs": [
    {
     "name": "stdout",
     "output_type": "stream",
     "text": [
      "Перекрестная проверка: 0.6839218707158804\n",
      "Точность на тестовой выборке: 0.6930939915233109\n"
     ]
    },
    {
     "data": {
      "text/plain": [
       "{'class_weight': None,\n",
       " 'criterion': 'entropy',\n",
       " 'max_depth': 47,\n",
       " 'n_estimators': 100,\n",
       " 'random_state': 21}"
      ]
     },
     "execution_count": 37,
     "metadata": {},
     "output_type": "execute_result"
    }
   ],
   "source": [
    "classing.model_choose('RandomForestClassifier', {})\n",
    "forest_params1 = {\n",
    "    'n_estimators': [5, 10, 15, 25, 50, 100],\n",
    "    'max_depth': [i for i in range(1, 50)],\n",
    "    \"class_weight\": [None],\n",
    "    \"criterion\": ['entropy'],\n",
    "    'random_state': [21]\n",
    "}\n",
    "best_forest_params = classing.parameter_select(forest_params1)\n",
    "best_forest_params"
   ]
  },
  {
   "cell_type": "markdown",
   "metadata": {},
   "source": [
    "## Расчет точности наивного классификатора"
   ]
  },
  {
   "cell_type": "code",
   "execution_count": 38,
   "metadata": {},
   "outputs": [
    {
     "data": {
      "text/plain": [
       "0.6706556968337073"
      ]
     },
     "execution_count": 38,
     "metadata": {},
     "output_type": "execute_result"
    }
   ],
   "source": [
    "native_acc = classing.native_accuracy()\n",
    "native_acc"
   ]
  },
  {
   "cell_type": "markdown",
   "metadata": {},
   "source": [
    "## Повторная бинаризация целевого столбца и разбиение на подвыборки"
   ]
  },
  {
   "cell_type": "code",
   "execution_count": 39,
   "metadata": {},
   "outputs": [
    {
     "data": {
      "text/html": [
       "<div>\n",
       "<style scoped>\n",
       "    .dataframe tbody tr th:only-of-type {\n",
       "        vertical-align: middle;\n",
       "    }\n",
       "\n",
       "    .dataframe tbody tr th {\n",
       "        vertical-align: top;\n",
       "    }\n",
       "\n",
       "    .dataframe thead th {\n",
       "        text-align: right;\n",
       "    }\n",
       "</style>\n",
       "<table border=\"1\" class=\"dataframe\">\n",
       "  <thead>\n",
       "    <tr style=\"text-align: right;\">\n",
       "      <th></th>\n",
       "      <th>rating</th>\n",
       "      <th>almond</th>\n",
       "      <th>amaretto</th>\n",
       "      <th>anchovy</th>\n",
       "      <th>anise</th>\n",
       "      <th>apple</th>\n",
       "      <th>apple juice</th>\n",
       "      <th>apricot</th>\n",
       "      <th>artichoke</th>\n",
       "      <th>arugula</th>\n",
       "      <th>...</th>\n",
       "      <th>wheat/gluten-free</th>\n",
       "      <th>whiskey</th>\n",
       "      <th>white wine</th>\n",
       "      <th>whole wheat</th>\n",
       "      <th>wild rice</th>\n",
       "      <th>wine</th>\n",
       "      <th>yellow squash</th>\n",
       "      <th>yogurt</th>\n",
       "      <th>yuca</th>\n",
       "      <th>zucchini</th>\n",
       "    </tr>\n",
       "  </thead>\n",
       "  <tbody>\n",
       "    <tr>\n",
       "      <th>0</th>\n",
       "      <td>so-so</td>\n",
       "      <td>0.0</td>\n",
       "      <td>0.0</td>\n",
       "      <td>0.0</td>\n",
       "      <td>0.0</td>\n",
       "      <td>1.0</td>\n",
       "      <td>0.0</td>\n",
       "      <td>0.0</td>\n",
       "      <td>0.0</td>\n",
       "      <td>0.0</td>\n",
       "      <td>...</td>\n",
       "      <td>0.0</td>\n",
       "      <td>0.0</td>\n",
       "      <td>0.0</td>\n",
       "      <td>0.0</td>\n",
       "      <td>0.0</td>\n",
       "      <td>0.0</td>\n",
       "      <td>0.0</td>\n",
       "      <td>0.0</td>\n",
       "      <td>0.0</td>\n",
       "      <td>0.0</td>\n",
       "    </tr>\n",
       "    <tr>\n",
       "      <th>1</th>\n",
       "      <td>great</td>\n",
       "      <td>0.0</td>\n",
       "      <td>0.0</td>\n",
       "      <td>0.0</td>\n",
       "      <td>0.0</td>\n",
       "      <td>0.0</td>\n",
       "      <td>0.0</td>\n",
       "      <td>0.0</td>\n",
       "      <td>0.0</td>\n",
       "      <td>0.0</td>\n",
       "      <td>...</td>\n",
       "      <td>0.0</td>\n",
       "      <td>0.0</td>\n",
       "      <td>0.0</td>\n",
       "      <td>0.0</td>\n",
       "      <td>0.0</td>\n",
       "      <td>0.0</td>\n",
       "      <td>0.0</td>\n",
       "      <td>0.0</td>\n",
       "      <td>0.0</td>\n",
       "      <td>0.0</td>\n",
       "    </tr>\n",
       "    <tr>\n",
       "      <th>2</th>\n",
       "      <td>great</td>\n",
       "      <td>0.0</td>\n",
       "      <td>0.0</td>\n",
       "      <td>0.0</td>\n",
       "      <td>0.0</td>\n",
       "      <td>0.0</td>\n",
       "      <td>0.0</td>\n",
       "      <td>0.0</td>\n",
       "      <td>0.0</td>\n",
       "      <td>0.0</td>\n",
       "      <td>...</td>\n",
       "      <td>0.0</td>\n",
       "      <td>0.0</td>\n",
       "      <td>0.0</td>\n",
       "      <td>0.0</td>\n",
       "      <td>0.0</td>\n",
       "      <td>0.0</td>\n",
       "      <td>0.0</td>\n",
       "      <td>0.0</td>\n",
       "      <td>0.0</td>\n",
       "      <td>0.0</td>\n",
       "    </tr>\n",
       "    <tr>\n",
       "      <th>3</th>\n",
       "      <td>great</td>\n",
       "      <td>0.0</td>\n",
       "      <td>0.0</td>\n",
       "      <td>0.0</td>\n",
       "      <td>0.0</td>\n",
       "      <td>0.0</td>\n",
       "      <td>0.0</td>\n",
       "      <td>0.0</td>\n",
       "      <td>0.0</td>\n",
       "      <td>0.0</td>\n",
       "      <td>...</td>\n",
       "      <td>0.0</td>\n",
       "      <td>0.0</td>\n",
       "      <td>0.0</td>\n",
       "      <td>0.0</td>\n",
       "      <td>0.0</td>\n",
       "      <td>0.0</td>\n",
       "      <td>0.0</td>\n",
       "      <td>0.0</td>\n",
       "      <td>0.0</td>\n",
       "      <td>0.0</td>\n",
       "    </tr>\n",
       "    <tr>\n",
       "      <th>4</th>\n",
       "      <td>so-so</td>\n",
       "      <td>0.0</td>\n",
       "      <td>0.0</td>\n",
       "      <td>0.0</td>\n",
       "      <td>0.0</td>\n",
       "      <td>0.0</td>\n",
       "      <td>0.0</td>\n",
       "      <td>0.0</td>\n",
       "      <td>0.0</td>\n",
       "      <td>0.0</td>\n",
       "      <td>...</td>\n",
       "      <td>0.0</td>\n",
       "      <td>0.0</td>\n",
       "      <td>0.0</td>\n",
       "      <td>0.0</td>\n",
       "      <td>0.0</td>\n",
       "      <td>0.0</td>\n",
       "      <td>0.0</td>\n",
       "      <td>0.0</td>\n",
       "      <td>0.0</td>\n",
       "      <td>0.0</td>\n",
       "    </tr>\n",
       "    <tr>\n",
       "      <th>...</th>\n",
       "      <td>...</td>\n",
       "      <td>...</td>\n",
       "      <td>...</td>\n",
       "      <td>...</td>\n",
       "      <td>...</td>\n",
       "      <td>...</td>\n",
       "      <td>...</td>\n",
       "      <td>...</td>\n",
       "      <td>...</td>\n",
       "      <td>...</td>\n",
       "      <td>...</td>\n",
       "      <td>...</td>\n",
       "      <td>...</td>\n",
       "      <td>...</td>\n",
       "      <td>...</td>\n",
       "      <td>...</td>\n",
       "      <td>...</td>\n",
       "      <td>...</td>\n",
       "      <td>...</td>\n",
       "      <td>...</td>\n",
       "      <td>...</td>\n",
       "    </tr>\n",
       "    <tr>\n",
       "      <th>20047</th>\n",
       "      <td>so-so</td>\n",
       "      <td>0.0</td>\n",
       "      <td>0.0</td>\n",
       "      <td>0.0</td>\n",
       "      <td>0.0</td>\n",
       "      <td>0.0</td>\n",
       "      <td>0.0</td>\n",
       "      <td>0.0</td>\n",
       "      <td>0.0</td>\n",
       "      <td>0.0</td>\n",
       "      <td>...</td>\n",
       "      <td>0.0</td>\n",
       "      <td>0.0</td>\n",
       "      <td>0.0</td>\n",
       "      <td>0.0</td>\n",
       "      <td>0.0</td>\n",
       "      <td>0.0</td>\n",
       "      <td>0.0</td>\n",
       "      <td>0.0</td>\n",
       "      <td>0.0</td>\n",
       "      <td>0.0</td>\n",
       "    </tr>\n",
       "    <tr>\n",
       "      <th>20048</th>\n",
       "      <td>great</td>\n",
       "      <td>0.0</td>\n",
       "      <td>0.0</td>\n",
       "      <td>0.0</td>\n",
       "      <td>0.0</td>\n",
       "      <td>0.0</td>\n",
       "      <td>0.0</td>\n",
       "      <td>0.0</td>\n",
       "      <td>1.0</td>\n",
       "      <td>0.0</td>\n",
       "      <td>...</td>\n",
       "      <td>1.0</td>\n",
       "      <td>0.0</td>\n",
       "      <td>0.0</td>\n",
       "      <td>0.0</td>\n",
       "      <td>0.0</td>\n",
       "      <td>0.0</td>\n",
       "      <td>0.0</td>\n",
       "      <td>0.0</td>\n",
       "      <td>0.0</td>\n",
       "      <td>0.0</td>\n",
       "    </tr>\n",
       "    <tr>\n",
       "      <th>20049</th>\n",
       "      <td>great</td>\n",
       "      <td>0.0</td>\n",
       "      <td>0.0</td>\n",
       "      <td>0.0</td>\n",
       "      <td>0.0</td>\n",
       "      <td>0.0</td>\n",
       "      <td>0.0</td>\n",
       "      <td>0.0</td>\n",
       "      <td>0.0</td>\n",
       "      <td>0.0</td>\n",
       "      <td>...</td>\n",
       "      <td>0.0</td>\n",
       "      <td>0.0</td>\n",
       "      <td>0.0</td>\n",
       "      <td>0.0</td>\n",
       "      <td>0.0</td>\n",
       "      <td>0.0</td>\n",
       "      <td>0.0</td>\n",
       "      <td>0.0</td>\n",
       "      <td>0.0</td>\n",
       "      <td>0.0</td>\n",
       "    </tr>\n",
       "    <tr>\n",
       "      <th>20050</th>\n",
       "      <td>great</td>\n",
       "      <td>0.0</td>\n",
       "      <td>0.0</td>\n",
       "      <td>0.0</td>\n",
       "      <td>0.0</td>\n",
       "      <td>0.0</td>\n",
       "      <td>0.0</td>\n",
       "      <td>0.0</td>\n",
       "      <td>0.0</td>\n",
       "      <td>0.0</td>\n",
       "      <td>...</td>\n",
       "      <td>0.0</td>\n",
       "      <td>0.0</td>\n",
       "      <td>0.0</td>\n",
       "      <td>0.0</td>\n",
       "      <td>0.0</td>\n",
       "      <td>0.0</td>\n",
       "      <td>0.0</td>\n",
       "      <td>0.0</td>\n",
       "      <td>0.0</td>\n",
       "      <td>0.0</td>\n",
       "    </tr>\n",
       "    <tr>\n",
       "      <th>20051</th>\n",
       "      <td>great</td>\n",
       "      <td>0.0</td>\n",
       "      <td>0.0</td>\n",
       "      <td>0.0</td>\n",
       "      <td>0.0</td>\n",
       "      <td>0.0</td>\n",
       "      <td>0.0</td>\n",
       "      <td>0.0</td>\n",
       "      <td>0.0</td>\n",
       "      <td>0.0</td>\n",
       "      <td>...</td>\n",
       "      <td>0.0</td>\n",
       "      <td>0.0</td>\n",
       "      <td>0.0</td>\n",
       "      <td>0.0</td>\n",
       "      <td>0.0</td>\n",
       "      <td>0.0</td>\n",
       "      <td>0.0</td>\n",
       "      <td>0.0</td>\n",
       "      <td>0.0</td>\n",
       "      <td>0.0</td>\n",
       "    </tr>\n",
       "  </tbody>\n",
       "</table>\n",
       "<p>20052 rows × 350 columns</p>\n",
       "</div>"
      ],
      "text/plain": [
       "      rating  almond  amaretto  anchovy  anise  apple  apple juice  apricot  \\\n",
       "0      so-so     0.0       0.0      0.0    0.0    1.0          0.0      0.0   \n",
       "1      great     0.0       0.0      0.0    0.0    0.0          0.0      0.0   \n",
       "2      great     0.0       0.0      0.0    0.0    0.0          0.0      0.0   \n",
       "3      great     0.0       0.0      0.0    0.0    0.0          0.0      0.0   \n",
       "4      so-so     0.0       0.0      0.0    0.0    0.0          0.0      0.0   \n",
       "...      ...     ...       ...      ...    ...    ...          ...      ...   \n",
       "20047  so-so     0.0       0.0      0.0    0.0    0.0          0.0      0.0   \n",
       "20048  great     0.0       0.0      0.0    0.0    0.0          0.0      0.0   \n",
       "20049  great     0.0       0.0      0.0    0.0    0.0          0.0      0.0   \n",
       "20050  great     0.0       0.0      0.0    0.0    0.0          0.0      0.0   \n",
       "20051  great     0.0       0.0      0.0    0.0    0.0          0.0      0.0   \n",
       "\n",
       "       artichoke  arugula  ...  wheat/gluten-free  whiskey  white wine  \\\n",
       "0            0.0      0.0  ...                0.0      0.0         0.0   \n",
       "1            0.0      0.0  ...                0.0      0.0         0.0   \n",
       "2            0.0      0.0  ...                0.0      0.0         0.0   \n",
       "3            0.0      0.0  ...                0.0      0.0         0.0   \n",
       "4            0.0      0.0  ...                0.0      0.0         0.0   \n",
       "...          ...      ...  ...                ...      ...         ...   \n",
       "20047        0.0      0.0  ...                0.0      0.0         0.0   \n",
       "20048        1.0      0.0  ...                1.0      0.0         0.0   \n",
       "20049        0.0      0.0  ...                0.0      0.0         0.0   \n",
       "20050        0.0      0.0  ...                0.0      0.0         0.0   \n",
       "20051        0.0      0.0  ...                0.0      0.0         0.0   \n",
       "\n",
       "       whole wheat  wild rice  wine  yellow squash  yogurt  yuca  zucchini  \n",
       "0              0.0        0.0   0.0            0.0     0.0   0.0       0.0  \n",
       "1              0.0        0.0   0.0            0.0     0.0   0.0       0.0  \n",
       "2              0.0        0.0   0.0            0.0     0.0   0.0       0.0  \n",
       "3              0.0        0.0   0.0            0.0     0.0   0.0       0.0  \n",
       "4              0.0        0.0   0.0            0.0     0.0   0.0       0.0  \n",
       "...            ...        ...   ...            ...     ...   ...       ...  \n",
       "20047          0.0        0.0   0.0            0.0     0.0   0.0       0.0  \n",
       "20048          0.0        0.0   0.0            0.0     0.0   0.0       0.0  \n",
       "20049          0.0        0.0   0.0            0.0     0.0   0.0       0.0  \n",
       "20050          0.0        0.0   0.0            0.0     0.0   0.0       0.0  \n",
       "20051          0.0        0.0   0.0            0.0     0.0   0.0       0.0  \n",
       "\n",
       "[20052 rows x 350 columns]"
      ]
     },
     "execution_count": 39,
     "metadata": {},
     "output_type": "execute_result"
    }
   ],
   "source": [
    "classing.binarization_category(df, 'rating')\n",
    "df"
   ]
  },
  {
   "cell_type": "code",
   "execution_count": 40,
   "metadata": {},
   "outputs": [],
   "source": [
    "classing.tr_tst_split(df, 'rating')"
   ]
  },
  {
   "cell_type": "markdown",
   "metadata": {},
   "source": [
    "## Повторная классификация"
   ]
  },
  {
   "cell_type": "markdown",
   "metadata": {},
   "source": [
    "### Логистическая регрессия"
   ]
  },
  {
   "cell_type": "code",
   "execution_count": 41,
   "metadata": {},
   "outputs": [
    {
     "name": "stdout",
     "output_type": "stream",
     "text": [
      "Перекрестная проверка: 0.8001696456937933\n",
      "Точность на тестовой выборке: 0.8022936923460484\n"
     ]
    },
    {
     "data": {
      "text/plain": [
       "{'C': 1.0, 'penalty': 'l2', 'random_state': 21, 'solver': 'saga'}"
      ]
     },
     "execution_count": 41,
     "metadata": {},
     "output_type": "execute_result"
    }
   ],
   "source": [
    "classing.model_choose('LogisticRegression', {})\n",
    "logreg_params = {\n",
    "    'penalty': ['l2'],\n",
    "    'C': [0.1, 1.0, 10.0],\n",
    "    'solver': ['lbfgs', 'saga'],\n",
    "    'random_state': [21]\n",
    "}\n",
    "best_logreg_params = classing.parameter_select(logreg_params)\n",
    "best_logreg_params"
   ]
  },
  {
   "cell_type": "markdown",
   "metadata": {},
   "source": [
    "### Дерево решений"
   ]
  },
  {
   "cell_type": "code",
   "execution_count": 42,
   "metadata": {},
   "outputs": [
    {
     "name": "stdout",
     "output_type": "stream",
     "text": [
      "Перекрестная проверка: 0.7983243710718219\n",
      "Точность на тестовой выборке: 0.7973074046372476\n"
     ]
    },
    {
     "data": {
      "text/plain": [
       "{'class_weight': None, 'criterion': 'gini', 'max_depth': 5, 'random_state': 21}"
      ]
     },
     "execution_count": 42,
     "metadata": {},
     "output_type": "execute_result"
    }
   ],
   "source": [
    "classing.model_choose('DecisionTreeClassifier', {})\n",
    "tree_params = {\n",
    "    \"max_depth\": [i for i in range(1, 50)],\n",
    "    \"class_weight\": ['balanced', None],\n",
    "    \"criterion\": ['entropy', 'gini'],\n",
    "    'random_state': [21]\n",
    "}\n",
    "best_tree_params = classing.parameter_select(tree_params)\n",
    "best_tree_params"
   ]
  },
  {
   "cell_type": "markdown",
   "metadata": {},
   "source": [
    "### Случайный лес"
   ]
  },
  {
   "cell_type": "code",
   "execution_count": 43,
   "metadata": {},
   "outputs": [
    {
     "name": "stdout",
     "output_type": "stream",
     "text": [
      "Перекрестная проверка: 0.8059546595988214\n",
      "Точность на тестовой выборке: 0.8087758663674894\n"
     ]
    },
    {
     "data": {
      "text/plain": [
       "{'class_weight': None,\n",
       " 'criterion': 'entropy',\n",
       " 'max_depth': 49,\n",
       " 'n_estimators': 100,\n",
       " 'random_state': 21}"
      ]
     },
     "execution_count": 43,
     "metadata": {},
     "output_type": "execute_result"
    }
   ],
   "source": [
    "classing.model_choose('RandomForestClassifier', {})\n",
    "forest_params1 = {\n",
    "    'n_estimators': [5, 10, 15, 25, 50, 100],\n",
    "    'max_depth': [i for i in range(1, 50)],\n",
    "    \"class_weight\": [None],\n",
    "    \"criterion\": ['entropy'],\n",
    "    'random_state': [21]\n",
    "}\n",
    "best_forest_params = classing.parameter_select(forest_params1)\n",
    "best_forest_params"
   ]
  },
  {
   "cell_type": "markdown",
   "metadata": {},
   "source": [
    "## Повторный расчет точности наивного классификатора"
   ]
  },
  {
   "cell_type": "code",
   "execution_count": 44,
   "metadata": {},
   "outputs": [
    {
     "data": {
      "text/plain": [
       "0.7978060334081276"
      ]
     },
     "execution_count": 44,
     "metadata": {},
     "output_type": "execute_result"
    }
   ],
   "source": [
    "native_acc = classing.native_accuracy()\n",
    "native_acc"
   ]
  },
  {
   "cell_type": "markdown",
   "metadata": {},
   "source": [
    "## Что хуже: предсказать плохой рейтинг, который хорош в реальной жизни, или предсказать хороший рейтинг, который плох в реальной жизни?"
   ]
  },
  {
   "cell_type": "markdown",
   "metadata": {},
   "source": [
    "### Ответ: предсказать хороший рейтинг, который плох в реальной жизни"
   ]
  },
  {
   "cell_type": "markdown",
   "metadata": {},
   "source": [
    "## Повторная классификация с ансамблями"
   ]
  },
  {
   "cell_type": "markdown",
   "metadata": {},
   "source": [
    "### Инициализация моделей"
   ]
  },
  {
   "cell_type": "code",
   "execution_count": 45,
   "metadata": {},
   "outputs": [],
   "source": [
    "best_logreg_params = {'C': 1.0, 'penalty': 'l2', 'random_state': 21, 'solver': 'saga'}\n",
    "best_tree_params = {'class_weight': None, 'criterion': 'gini', 'max_depth': 5, 'random_state': 21}\n",
    "best_forest_params = {'class_weight': None, 'criterion': 'entropy', 'max_depth': 49, 'n_estimators': 100, 'random_state': 21}"
   ]
  },
  {
   "cell_type": "code",
   "execution_count": 46,
   "metadata": {},
   "outputs": [],
   "source": [
    "logreg = classing.model_choose('LogisticRegression', best_logreg_params)\n",
    "tree = classing.model_choose('DecisionTreeClassifier', best_tree_params)\n",
    "forest = classing.model_choose('RandomForestClassifier', best_forest_params)"
   ]
  },
  {
   "cell_type": "markdown",
   "metadata": {},
   "source": [
    "### VotingClassifier"
   ]
  },
  {
   "cell_type": "code",
   "execution_count": 47,
   "metadata": {},
   "outputs": [
    {
     "name": "stdout",
     "output_type": "stream",
     "text": [
      "Перекрестная проверка: 0.8029125142765127\n",
      "Точность на тестовой выборке: 0.806033408127649\n"
     ]
    }
   ],
   "source": [
    "voting_cls = classing.model_choose('VotingClassifier', {'estimators': [\n",
    "        ('logreg', logreg),\n",
    "        ('tree', tree),\n",
    "        ('forest', forest)\n",
    "    ]})\n",
    "voting_grid = {\n",
    "    'voting': ['hard', 'soft'],\n",
    "    'weights': [\n",
    "        None,\n",
    "        [1, 2, 1],\n",
    "        [2, 1, 1],\n",
    "        [1, 1, 2]\n",
    "    ]}\n",
    "best_voting_params = classing.parameter_select(voting_grid)"
   ]
  },
  {
   "cell_type": "markdown",
   "metadata": {},
   "source": [
    "### StackingClassifier"
   ]
  },
  {
   "cell_type": "code",
   "execution_count": 48,
   "metadata": {},
   "outputs": [
    {
     "name": "stdout",
     "output_type": "stream",
     "text": [
      "Перекрестная проверка: 0.8041093974114826\n",
      "Точность на тестовой выборке: 0.8077786088257293\n"
     ]
    }
   ],
   "source": [
    "base_models = [\n",
    "    ('logreg', logreg),\n",
    "    ('tree', tree),\n",
    "    ('forest', forest)\n",
    "]\n",
    "stack_cls = classing.model_choose('StackingClassifier', {'estimators': base_models})\n",
    "stack_grid = {\n",
    "    'final_estimator': [logreg, tree, forest],\n",
    "    'n_jobs': [-1],\n",
    "}\n",
    "best_stack_params = classing.parameter_select(stack_grid)"
   ]
  },
  {
   "cell_type": "markdown",
   "metadata": {},
   "source": [
    "## Итоговая модель (с лучшей точностью)"
   ]
  },
  {
   "cell_type": "code",
   "execution_count": 49,
   "metadata": {},
   "outputs": [],
   "source": [
    "best_model = classing.model_choose('RandomForestClassifier', best_forest_params)\n",
    "classing.fit()\n"
   ]
  },
  {
   "cell_type": "markdown",
   "metadata": {},
   "source": [
    "## Сохранение модели"
   ]
  },
  {
   "cell_type": "code",
   "execution_count": 50,
   "metadata": {},
   "outputs": [
    {
     "data": {
      "text/plain": [
       "['main_model.pkl']"
      ]
     },
     "execution_count": 50,
     "metadata": {},
     "output_type": "execute_result"
    }
   ],
   "source": [
    "joblib.dump(best_model, 'main_model.pkl')"
   ]
  }
 ],
 "metadata": {
  "kernelspec": {
   "display_name": "data",
   "language": "python",
   "name": "python3"
  },
  "language_info": {
   "codemirror_mode": {
    "name": "ipython",
    "version": 3
   },
   "file_extension": ".py",
   "mimetype": "text/x-python",
   "name": "python",
   "nbconvert_exporter": "python",
   "pygments_lexer": "ipython3",
   "version": "3.13.0"
  }
 },
 "nbformat": 4,
 "nbformat_minor": 4
}
